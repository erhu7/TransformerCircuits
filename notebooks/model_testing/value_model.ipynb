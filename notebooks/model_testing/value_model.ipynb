{
 "cells": [
  {
   "cell_type": "code",
   "execution_count": 9,
   "metadata": {},
   "outputs": [
    {
     "name": "stdout",
     "output_type": "stream",
     "text": [
      "The autoreload extension is already loaded. To reload it, use:\n",
      "  %reload_ext autoreload\n"
     ]
    },
    {
     "name": "stderr",
     "output_type": "stream",
     "text": [
      "/Users/ehu7/Projects/TransformerCircuits/src/rollout/dataset.py:36: SyntaxWarning: assertion is always true, perhaps remove parentheses?\n",
      "  assert( num_tokens > sequence_length, \"num_tokens must be greater than sequence_length\")\n",
      "/Users/ehu7/Projects/TransformerCircuits/src/rollout/dataset.py:37: SyntaxWarning: assertion is always true, perhaps remove parentheses?\n",
      "  assert(n_back < sequence_length-1, \"n_back must be less than sequence_length-1\")\n"
     ]
    }
   ],
   "source": [
    "# autoreload to reload modules when they change\n",
    "%load_ext autoreload\n",
    "%autoreload 2\n",
    "\n",
    "import rollout\n",
    "from torch import optim\n",
    "import torch\n",
    "import numpy as np\n",
    "import matplotlib.pyplot as plt\n",
    "from torch import nn"
   ]
  },
  {
   "cell_type": "code",
   "execution_count": 20,
   "metadata": {},
   "outputs": [],
   "source": [
    "from itertools import permutations"
   ]
  },
  {
   "cell_type": "code",
   "execution_count": 10,
   "metadata": {},
   "outputs": [
    {
     "name": "stdout",
     "output_type": "stream",
     "text": [
      "Epoch 0: Train Loss: 2.4328184127807617, Test Loss: 1.907546043395996\n",
      "Epoch 100: Train Loss: 0.00023883560788817704, Test Loss: 0.0003346828743815422\n",
      "Epoch 200: Train Loss: 6.630298594245687e-05, Test Loss: 7.699814159423113e-05\n",
      "Epoch 300: Train Loss: 4.117744174436666e-05, Test Loss: 3.5974153433926404e-05\n",
      "Epoch 400: Train Loss: 2.969959496113006e-05, Test Loss: 2.5192508473992348e-05\n"
     ]
    }
   ],
   "source": [
    "d_model = 128\n",
    "n_heads = 1\n",
    "n_attn_layers = 2\n",
    "n_tokens = 10\n",
    "max_positions = 6\n",
    "\n",
    "\n",
    "dataset = rollout.dataset.ValueDataset(n_tokens, max_positions)\n",
    "\n",
    "\n",
    "simpleModel = rollout.models.FlexibleTransformer(d_model, n_tokens, max_positions, n_heads, n_attn_layers)\n",
    "optimizer = optim.AdamW(simpleModel.parameters(), lr=0.001)\n",
    "criterion = nn.functional.cross_entropy\n",
    "\n",
    "simple_train_losses, simple_test_losses = rollout.models.optimize_model(simpleModel, criterion, optimizer, dataset, n_epochs=500, batch_size=1024)"
   ]
  }
 ],
 "metadata": {
  "kernelspec": {
   "display_name": "TransformerCircuits",
   "language": "python",
   "name": "python3"
  },
  "language_info": {
   "codemirror_mode": {
    "name": "ipython",
    "version": 3
   },
   "file_extension": ".py",
   "mimetype": "text/x-python",
   "name": "python",
   "nbconvert_exporter": "python",
   "pygments_lexer": "ipython3",
   "version": "3.9.21"
  }
 },
 "nbformat": 4,
 "nbformat_minor": 2
}
