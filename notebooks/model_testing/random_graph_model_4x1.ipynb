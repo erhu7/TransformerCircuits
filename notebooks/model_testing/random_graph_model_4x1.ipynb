{
 "cells": [
  {
   "cell_type": "code",
   "execution_count": 2,
   "metadata": {},
   "outputs": [
    {
     "name": "stdout",
     "output_type": "stream",
     "text": [
      "The autoreload extension is already loaded. To reload it, use:\n",
      "  %reload_ext autoreload\n"
     ]
    }
   ],
   "source": [
    "# autoreload to reload modules when they change\n",
    "%load_ext autoreload\n",
    "%autoreload 2\n",
    "\n",
    "import rollout\n",
    "from torch import optim\n",
    "import torch\n",
    "import numpy as np\n",
    "import matplotlib.pyplot as plt\n",
    "from torch import nn\n",
    "\n",
    "from tqdm import trange\n",
    "import networkx as nx\n",
    "import math\n",
    "import seaborn as sns\n",
    "\n",
    "model_path = \"data/graph_task/attention_only_nodes7_k2_p0.40_d256_4layers_1heads/model.pt\""
   ]
  },
  {
   "cell_type": "code",
   "execution_count": 3,
   "metadata": {},
   "outputs": [
    {
     "name": "stderr",
     "output_type": "stream",
     "text": [
      "/var/folders/23/ryhrv04s5_q_zzrtln1zy1gc0000gn/T/ipykernel_74015/2457720587.py:1: FutureWarning: You are using `torch.load` with `weights_only=False` (the current default value), which uses the default pickle module implicitly. It is possible to construct malicious pickle data which will execute arbitrary code during unpickling (See https://github.com/pytorch/pytorch/blob/main/SECURITY.md#untrusted-models for more details). In a future release, the default value for `weights_only` will be flipped to `True`. This limits the functions that could be executed during unpickling. Arbitrary objects will no longer be allowed to be loaded via this mode unless they are explicitly allowlisted by the user via `torch.serialization.add_safe_globals`. We recommend you start setting `weights_only=True` for any use case where you don't have full control of the loaded file. Please open an issue on GitHub for any issues related to this experimental feature.\n",
      "  model = torch.load(model_path)\n"
     ]
    }
   ],
   "source": [
    "model = torch.load(model_path)"
   ]
  },
  {
   "cell_type": "code",
   "execution_count": 4,
   "metadata": {},
   "outputs": [],
   "source": [
    "def edge_to_str(edge):\n",
    "    return chr(edge[0] + ord('a')) + chr(edge[1] + ord('a')) + \".\"\n",
    "\n",
    "def edge_context(edges):\n",
    "    return \"\".join([edge_to_str(edge) for edge in edges])\n",
    "\n",
    "def query(n1, n2):\n",
    "    return chr(n1 + ord('a')) + chr(n2 + ord('a')) + \"?\"\n",
    "\n",
    "def max_question_length(n_nodes):\n",
    "    return len(generate_question(nx.connected_watts_strogatz_graph(n_nodes, k=2, p=0))[0])\n",
    "\n",
    "def generate_question(G, n1=None, n2=None):\n",
    "    assert n1 is None or n1 in G.nodes, \"n1 is not a node in the graph\"\n",
    "    assert n2 is None or n2 in G.nodes, \"n2 is not a node in the graph\"\n",
    "    \n",
    "    if n1 is None and n2 is None:\n",
    "        n1, n2 = np.random.choice(list(G.nodes), replace=False, size=2)\n",
    "    else:\n",
    "        assert n1 != n2, \"n1 and n2 are the same node\"\n",
    "        if n1 is None:\n",
    "            n1 = np.random.choice(list(G.nodes))\n",
    "        if n2 is None:\n",
    "            n2 = np.random.choice(list(G.nodes))\n",
    "    try: \n",
    "        answer = nx.shortest_path_length(G, n1, n2)\n",
    "    except nx.NetworkXNoPath:\n",
    "        answer = -1\n",
    "    edges = list(G.edges)\n",
    "    return edge_context(edges) + query(n1, n2), answer\n",
    "\n",
    "def create_token_map(n_nodes):\n",
    "    token_map = {}\n",
    "    for i in range(n_nodes):\n",
    "        token_map[i] = i\n",
    "    for i in range(n_nodes):\n",
    "        token_map[chr(i + ord('a'))] = i + n_nodes \n",
    "\n",
    "    token_map[\".\"] = 2*n_nodes\n",
    "    token_map[\"-\"] = 2*n_nodes + 1\n",
    "    token_map[\"?\"] = 2*n_nodes + 2\n",
    "    token_map[\"pad\"] = 2*n_nodes + 3\n",
    "    token_map[-1] = 2*n_nodes + 4\n",
    "    return token_map\n",
    "\n",
    "def tokenize(input_str, token_map):\n",
    "    return torch.tensor([token_map[c] for c in input_str])\n",
    "\n",
    "from torch.utils.data import Dataset, DataLoader\n",
    "from itertools import permutations, combinations\n",
    "class graphDataset(Dataset):\n",
    "    def __init__(self, n_nodes, n_graphs, train_test_split=0.75, k=2, p=0.4):\n",
    "        self.n_nodes = n_nodes\n",
    "        self.p = p        \n",
    "        self.k = k\n",
    "        self.train_test_split = train_test_split\n",
    "        self.token_map = create_token_map(n_nodes)\n",
    "        self.inverse_map = {v:k for k, v in self.token_map.items()}\n",
    "        self.n_tokens = len(self.token_map)\n",
    "        self.max_length = max_question_length(n_nodes)\n",
    "        \n",
    "        self.X = torch.zeros(n_graphs, self.max_length, dtype=torch.long)\n",
    "        self.y = torch.zeros(n_graphs, dtype=torch.long)\n",
    "\n",
    "        for i in range(n_graphs):\n",
    "            g = self._generate_graph()\n",
    "            self.X[i], self.y[i] = self._generate_question_(g)\n",
    "\n",
    "        self.n_samples = n_graphs\n",
    "        self.n_train = int(self.n_samples*self.train_test_split)\n",
    "        self.train_idx = torch.arange(self.n_train)\n",
    "\n",
    "        self.test_idx = torch.arange(self.n_train, self.n_samples)\n",
    "        self.n_test = len(self.test_idx)\n",
    "\n",
    "    def _generate_question_(self, G, n1=None, n2=None):\n",
    "            q, a = generate_question(G, n1, n2)\n",
    "            q, a = tokenize(q, self.token_map), torch.tensor(self.token_map[a])\n",
    "            return (q, a)\n",
    "    \n",
    "    def _generate_graph(self):\n",
    "        g = nx.connected_watts_strogatz_graph(self.n_nodes, k=self.k, p=self.p)\n",
    "        g.edges = np.random.permutation([np.random.permutation(edge) for edge in g.edges])    \n",
    "        return g\n",
    "    \n",
    "    def __len__(self):\n",
    "        return self.n_samples\n",
    "    \n",
    "    def __getitem__(self, idx):\n",
    "        return \n",
    "\n",
    "    def generate_batch_new(self, batch_size, type='train'):\n",
    "        \"\"\"\n",
    "        Generates a batch of data for training or testing.\n",
    "        Args:\n",
    "            batch_size (int): Number of samples in the batch.\n",
    "            type (str, optional): Type of data to generate ('train' or 'test'). Defaults to 'train'.\n",
    "        Returns:\n",
    "            tuple: A tuple containing the input sequences (X) and the output sequences (y).\n",
    "        \"\"\"\n",
    "        assert type in ['train', 'test'], \"type must be either 'train' or 'test'\"\n",
    "        \n",
    "        question_pairs = np.random.permutation(list(permutations(range(5), 2)))\n",
    "        n_pairs = len(question_pairs)\n",
    "        X = torch.zeros(n_pairs*batch_size, self.max_length, dtype=torch.long)\n",
    "        y = torch.zeros(n_pairs*batch_size, dtype=torch.long)\n",
    "        \n",
    "        for j in range(batch_size):\n",
    "            g = nx.connected_watts_strogatz_graph(self.n_nodes, k=self.k, p=self.p)\n",
    "            g.edges = np.random.permutation([np.random.permutation(edge) for edge in g.edges])    \n",
    "            for i in range(n_pairs):\n",
    "                X[j*n_pairs + i, ...], y[j*n_pairs + i] = self._generate_question_(g, question_pairs[i][0], question_pairs[i][1])\n",
    "        return X, y\n",
    "\n",
    "    def generate_batch(self, batch_size, type='train'):\n",
    "        \"\"\"\n",
    "        Generates a batch of data for training or testing.\n",
    "        Args:\n",
    "            batch_size (int): Number of samples in the batch.\n",
    "            type (str, optional): Type of data to generate ('train' or 'test'). Defaults to 'train'.\n",
    "        Returns:\n",
    "            tuple: A tuple containing the input sequences (X) and the output sequences (y).\n",
    "        \"\"\"\n",
    "        assert type in ['train', 'test'], \"type must be either 'train' or 'test'\"\n",
    "\n",
    "        if type == 'train':\n",
    "            idx = self.train_idx[torch.randint(0, self.n_train, (batch_size,))]\n",
    "        else:\n",
    "            idx = self.test_idx[torch.randint(0, self.n_test, (batch_size,))]\n",
    "        X = self.X[idx]\n",
    "        y = self.y[idx]\n",
    "        return X, y"
   ]
  },
  {
   "cell_type": "code",
   "execution_count": 5,
   "metadata": {},
   "outputs": [],
   "source": [
    "import einops\n",
    "def concat_attn(attn):\n",
    "    cat_attn = torch.cat([a.unsqueeze(0) for a in attn], dim=0)\n",
    "    return einops.rearrange(cat_attn, 'l b ... -> b l ...')\n",
    "\n",
    "def apply_triu_mask(im, k = 1):\n",
    "    mask = np.ones_like(im)\n",
    "    triu_mask = np.triu_indices_from(mask, k=k)\n",
    "    im[triu_mask] = np.nan\n",
    "    return im"
   ]
  },
  {
   "cell_type": "code",
   "execution_count": 37,
   "metadata": {},
   "outputs": [],
   "source": [
    "data = graphDataset(5, 100000, k=2, p=0.4)"
   ]
  },
  {
   "cell_type": "code",
   "execution_count": 38,
   "metadata": {},
   "outputs": [],
   "source": [
    "samp = 0\n",
    "def get_same_token_scores(question_batch, attn_batch, n_layers=4):\n",
    "    n_samp = attn_batch.shape[0]\n",
    "    same_token_scores = np.empty((n_samp, 2, n_layers))\n",
    "    for samp in range(n_samp):\n",
    "        for layer in range(n_layers):\n",
    "            q_np = question_batch[samp].detach().numpy()\n",
    "            attn_np = attn_batch[samp, layer, 0, :, :].detach().numpy()\n",
    "            same_tokens_idx = apply_triu_mask(np.array(q_np.reshape(-1, 1) == q_np.reshape(1, -1), dtype = float), k = 0)\n",
    "\n",
    "            grammar_idx = (q_np == 10)\n",
    "            grammar_mat = grammar_idx.reshape(-1, 1) | grammar_idx.reshape(1, -1)\n",
    "            grammar_mat = apply_triu_mask(np.array(grammar_mat, dtype=float), k=0)\n",
    "\n",
    "            question_idx = np.zeros(18, dtype=bool)\n",
    "            question_idx[-3:] = True\n",
    "            question_idx = question_idx.reshape(-1, 1) | question_idx.reshape(1, -1)\n",
    "            question_idx = apply_triu_mask(np.array(question_idx, dtype=float), k=0)\n",
    "\n",
    "\n",
    "            same_token_scores_samp = attn_np[(same_tokens_idx == 1) & (grammar_mat == 0) & (question_idx == 0)]\n",
    "            other_token_scores_samp = attn_np[(same_tokens_idx == 0) & (grammar_mat == 0) & (question_idx == 0)]\n",
    "\n",
    "            same_token_scores[samp, :, layer] = np.array([same_token_scores_samp.mean(), other_token_scores_samp.mean()])\n",
    "    return same_token_scores\n",
    "\n"
   ]
  },
  {
   "cell_type": "code",
   "execution_count": 58,
   "metadata": {},
   "outputs": [
    {
     "data": {
      "text/plain": [
       "tensor([[ -2.7267,  -7.7001,  12.6090,  ...,  -3.7178,  -1.4466,  -3.7182],\n",
       "        [ -2.8908,  -5.8096,  11.5498,  ...,  -3.1944,  -1.7081,  -3.4325],\n",
       "        [ -2.9786, -11.1464,  11.9306,  ...,  -4.6421,  -1.4631,  -3.9401],\n",
       "        ...,\n",
       "        [ -1.6029,  23.0350,   9.5641,  ...,  -0.8197,  -2.6036,  -0.8898],\n",
       "        [ -2.2565,  22.5402,  12.6956,  ...,  -1.4768,  -2.8736,  -1.5789],\n",
       "        [ -2.3917,  15.4727,   7.3627,  ...,  -2.8148,  -2.7837,  -1.7312]],\n",
       "       grad_fn=<SliceBackward0>)"
      ]
     },
     "execution_count": 58,
     "metadata": {},
     "output_type": "execute_result"
    }
   ],
   "source": [
    "logits"
   ]
  },
  {
   "cell_type": "code",
   "execution_count": 59,
   "metadata": {},
   "outputs": [
    {
     "data": {
      "text/plain": [
       "tensor([2, 2, 3,  ..., 1, 1, 1])"
      ]
     },
     "execution_count": 59,
     "metadata": {},
     "output_type": "execute_result"
    }
   ],
   "source": [
    "logits.argmax(-1)"
   ]
  },
  {
   "cell_type": "code",
   "execution_count": 60,
   "metadata": {},
   "outputs": [
    {
     "data": {
      "text/plain": [
       "tensor(0.9808)"
      ]
     },
     "execution_count": 60,
     "metadata": {},
     "output_type": "execute_result"
    }
   ],
   "source": [
    "question_batch, answer_batch = data.generate_batch(5000, type='test')\n",
    "logits, attn_batch = model.forward_with_weights(question_batch)\n",
    "attn_batch = concat_attn(attn_batch)\n",
    "\n",
    "def accuracy(logits, answers):\n",
    "    return (logits.argmax(-1) == answers).float().mean()\n",
    "\n",
    "accuracy(logits, answer_batch)"
   ]
  },
  {
   "cell_type": "code",
   "execution_count": 61,
   "metadata": {},
   "outputs": [],
   "source": [
    "out = get_same_token_scores(question_batch, attn_batch)"
   ]
  },
  {
   "cell_type": "code",
   "execution_count": 144,
   "metadata": {},
   "outputs": [
    {
     "data": {
      "text/plain": [
       "(array([49929.,     0.,     0.,     0.,     0., 38906.,     0.,     0.,\n",
       "            0., 11165.]),\n",
       " array([1. , 1.2, 1.4, 1.6, 1.8, 2. , 2.2, 2.4, 2.6, 2.8, 3. ]),\n",
       " <BarContainer object of 10 artists>)"
      ]
     },
     "execution_count": 144,
     "metadata": {},
     "output_type": "execute_result"
    },
    {
     "data": {
      "image/png": "[encoded data removed]",
      "text/plain": [
       "<Figure size 640x480 with 1 Axes>"
      ]
     },
     "metadata": {},
     "output_type": "display_data"
    }
   ],
   "source": [
    "plt.hist(data.y)"
   ]
  },
  {
   "cell_type": "code",
   "execution_count": 141,
   "metadata": {},
   "outputs": [
    {
     "data": {
      "image/png": "[encoded data removed]",
      "text/plain": [
       "<Figure size 1000x500 with 2 Axes>"
      ]
     },
     "metadata": {},
     "output_type": "display_data"
    }
   ],
   "source": [
    "\n",
    "def plot_attn(ax, question, attn, vmax=0.5):\n",
    "    ticks = [data.inverse_map[q] for q in question.detach().numpy()]\n",
    "    im = apply_triu_mask(attn.detach().numpy())\n",
    "    cmap = plt.cm.viridis\n",
    "    cmap.set_bad(color='black')\n",
    "    im = ax.imshow(im, cmap=cmap, vmax=vmax)\n",
    "    ax.set_xticks(range(len(ticks)), ticks)\n",
    "    ax.set_yticks(range(len(ticks)), ticks)\n",
    "    return ax\n",
    "\n",
    "def draw_graph_from_question(question):\n",
    "    question = question.detach().numpy()\n",
    "    q_str = np.array([data.inverse_map[q] for q in question])\n",
    "    edges = q_str.reshape(-1, 3)[:-1, :2]\n",
    "    #edges = question.detach().numpy().reshape(-1, 3)[:, :2]\n",
    "    g = nx.Graph()\n",
    "    g.add_edges_from(edges)\n",
    "    return g\n",
    "\n",
    "layer = 3\n",
    "samp += 1\n",
    "fig, ax = plt.subplots(1, 2, figsize=(10, 5))\n",
    "plot_attn(ax[0], question_batch[samp], attn_batch[samp, layer, 0, :, :])\n",
    "g = draw_graph_from_question(question_batch[samp])\n",
    "nx.draw(g, with_labels=True, ax=ax[1])"
   ]
  },
  {
   "cell_type": "code",
   "execution_count": null,
   "metadata": {},
   "outputs": [],
   "source": []
  },
  {
   "cell_type": "code",
   "execution_count": 110,
   "metadata": {},
   "outputs": [],
   "source": []
  },
  {
   "cell_type": "code",
   "execution_count": 107,
   "metadata": {},
   "outputs": [],
   "source": [
    "question = question_batch[0].detach().numpy()\n"
   ]
  },
  {
   "cell_type": "code",
   "execution_count": 109,
   "metadata": {},
   "outputs": [],
   "source": []
  },
  {
   "cell_type": "code",
   "execution_count": 84,
   "metadata": {},
   "outputs": [
    {
     "data": {
      "image/png": "[encoded data removed]",
      "text/plain": [
       "<Figure size 640x480 with 1 Axes>"
      ]
     },
     "metadata": {},
     "output_type": "display_data"
    }
   ],
   "source": [
    "layer = 0\n",
    "bins = np.linspace(0, 0.3, 100)\n",
    "plt.hist(out[:, 0, layer], bins, label=\"same attention\", density=True)\n",
    "plt.hist(out[:, 1, layer], bins, label=\"other attention\", density=True)\n",
    "plt.legend()\n",
    "sns.despine()\n",
    "plt.show()"
   ]
  }
 ],
 "metadata": {
  "kernelspec": {
   "display_name": "TransformerCircuits",
   "language": "python",
   "name": "python3"
  },
  "language_info": {
   "codemirror_mode": {
    "name": "ipython",
    "version": 3
   },
   "file_extension": ".py",
   "mimetype": "text/x-python",
   "name": "python",
   "nbconvert_exporter": "python",
   "pygments_lexer": "ipython3",
   "version": "3.9.21"
  }
 },
 "nbformat": 4,
 "nbformat_minor": 2
}
