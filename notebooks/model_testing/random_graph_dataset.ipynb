{
 "cells": [
  {
   "cell_type": "code",
   "execution_count": 2,
   "metadata": {},
   "outputs": [],
   "source": [
    "# autoreload to reload modules when they change\n",
    "%load_ext autoreload\n",
    "%autoreload 2\n",
    "\n",
    "import rollout\n",
    "from torch import optim\n",
    "import torch\n",
    "import numpy as np\n",
    "import matplotlib.pyplot as plt\n",
    "from torch import nn\n",
    "\n",
    "from tqdm import trange\n",
    "import networkx as nx\n",
    "import math\n",
    "import seaborn as sns"
   ]
  },
  {
   "cell_type": "code",
   "execution_count": 3,
   "metadata": {},
   "outputs": [
    {
     "data": {
      "image/png": "[encoded data removed]",
      "text/plain": [
       "<Figure size 640x480 with 1 Axes>"
      ]
     },
     "metadata": {},
     "output_type": "display_data"
    }
   ],
   "source": [
    "# check distributon of random graph path lengths\n",
    "n_iters = 1000\n",
    "path_lengths = []\n",
    "n_edges = []\n",
    "n_nodes = 10\n",
    "p = math.log(n_nodes)/n_nodes\n",
    "\n",
    "for _iter in range(n_iters):\n",
    "    g = nx.connected_watts_strogatz_graph(n_nodes, k=2 , p=p)\n",
    "    n_edges.append(len(g.edges))\n",
    "    for n1 in g.nodes:\n",
    "        for n2 in g.nodes:\n",
    "            if n1 != n2:\n",
    "                try:\n",
    "                    path_lengths.append(nx.shortest_path_length(g, n1, n2))\n",
    "                except nx.NetworkXNoPath:\n",
    "                    path_lengths.append(-1)\n",
    "plt.hist(path_lengths, bins=range(-1, n_nodes+1), density=True, align='left', width=0.9)\n",
    "plt.xticks(range(-1, n_nodes+1))\n",
    "plt.xlabel(\"path lengths\")\n",
    "plt.ylabel(\"density\")\n",
    "plt.title(\"# nodes = {n_nodes}, p(edge) = ln({n_nodes})/{n_nodes}\".format(n_nodes=n_nodes))\n",
    "sns.despine()\n",
    "\n",
    "plt.show()"
   ]
  },
  {
   "cell_type": "code",
   "execution_count": 4,
   "metadata": {},
   "outputs": [],
   "source": [
    "def edge_to_str(edge):\n",
    "    return chr(edge[0] + ord('a')) + chr(edge[1] + ord('a')) + \".\"\n",
    "\n",
    "def edge_context(edges):\n",
    "    return \"\".join([edge_to_str(edge) for edge in edges])\n",
    "\n",
    "def query(n1, n2):\n",
    "    return chr(n1 + ord('a')) + chr(n2 + ord('a')) + \"?\"\n",
    "\n",
    "def max_question_length(n_nodes):\n",
    "    return len(generate_question(nx.connected_watts_strogatz_graph(n_nodes, k=2, p=0))[0])\n",
    "\n",
    "def generate_question(G, n1=None, n2=None):\n",
    "    assert n1 is None or n1 in G.nodes, \"n1 is not a node in the graph\"\n",
    "    assert n2 is None or n2 in G.nodes, \"n2 is not a node in the graph\"\n",
    "    \n",
    "    if n1 is None and n2 is None:\n",
    "        n1, n2 = np.random.choice(list(G.nodes), replace=False, size=2)\n",
    "    else:\n",
    "        assert n1 != n2, \"n1 and n2 are the same node\"\n",
    "        if n1 is None:\n",
    "            n1 = np.random.choice(list(G.nodes))\n",
    "        if n2 is None:\n",
    "            n2 = np.random.choice(list(G.nodes))\n",
    "    try: \n",
    "        answer = nx.shortest_path_length(G, n1, n2)\n",
    "    except nx.NetworkXNoPath:\n",
    "        answer = -1\n",
    "    edges = list(G.edges)\n",
    "    return edge_context(edges) + query(n1, n2), answer\n",
    "\n",
    "def create_token_map(n_nodes):\n",
    "    token_map = {}\n",
    "    for i in range(n_nodes):\n",
    "        token_map[i] = i\n",
    "    for i in range(n_nodes):\n",
    "        token_map[chr(i + ord('a'))] = i + n_nodes \n",
    "\n",
    "    token_map[\".\"] = 2*n_nodes\n",
    "    token_map[\"-\"] = 2*n_nodes + 1\n",
    "    token_map[\"?\"] = 2*n_nodes + 2\n",
    "    token_map[\"pad\"] = 2*n_nodes + 3\n",
    "    token_map[-1] = 2*n_nodes + 4\n",
    "    return token_map\n",
    "\n",
    "def tokenize(input_str, token_map):\n",
    "    return torch.tensor([token_map[c] for c in input_str])\n",
    "\n",
    "from torch.utils.data import Dataset, DataLoader\n",
    "from itertools import permutations, combinations\n",
    "class graphDataset(Dataset):\n",
    "    def __init__(self, n_nodes, n_graphs, train_test_split=0.75, k=2, p=0.4):\n",
    "        self.n_nodes = n_nodes\n",
    "        self.p = p        \n",
    "        self.k = k\n",
    "        self.train_test_split = train_test_split\n",
    "        self.token_map = create_token_map(n_nodes)\n",
    "        self.inverse_map = {v:k for k, v in self.token_map.items()}\n",
    "        self.n_tokens = len(self.token_map)\n",
    "        self.max_length = max_question_length(n_nodes)\n",
    "        \n",
    "        self.X = torch.zeros(n_graphs, self.max_length, dtype=torch.long)\n",
    "        self.y = torch.zeros(n_graphs, dtype=torch.long)\n",
    "\n",
    "        for i in range(n_graphs):\n",
    "            g = self._generate_graph()\n",
    "            self.X[i], self.y[i] = self._generate_question_(g)\n",
    "\n",
    "        self.n_samples = n_graphs\n",
    "        self.n_train = int(self.n_samples*self.train_test_split)\n",
    "        self.train_idx = torch.arange(self.n_train)\n",
    "\n",
    "        self.test_idx = torch.arange(self.n_train, self.n_samples)\n",
    "        self.n_test = len(self.test_idx)\n",
    "\n",
    "    def _generate_question_(self, G, n1=None, n2=None):\n",
    "            q, a = generate_question(G, n1, n2)\n",
    "            q, a = tokenize(q, self.token_map), torch.tensor(self.token_map[a])\n",
    "            return (q, a)\n",
    "    \n",
    "    def _generate_graph(self):\n",
    "        g = nx.connected_watts_strogatz_graph(self.n_nodes, k=self.k, p=self.p)\n",
    "        g.edges = np.random.permutation([np.random.permutation(edge) for edge in g.edges])    \n",
    "        return g\n",
    "    \n",
    "    def __len__(self):\n",
    "        return self.n_samples\n",
    "    \n",
    "    def __getitem__(self, idx):\n",
    "        return \n",
    "\n",
    "    def generate_batch_new(self, batch_size, type='train'):\n",
    "        \"\"\"\n",
    "        Generates a batch of data for training or testing.\n",
    "        Args:\n",
    "            batch_size (int): Number of samples in the batch.\n",
    "            type (str, optional): Type of data to generate ('train' or 'test'). Defaults to 'train'.\n",
    "        Returns:\n",
    "            tuple: A tuple containing the input sequences (X) and the output sequences (y).\n",
    "        \"\"\"\n",
    "        assert type in ['train', 'test'], \"type must be either 'train' or 'test'\"\n",
    "        \n",
    "        question_pairs = np.random.permutation(list(permutations(range(5), 2)))\n",
    "        n_pairs = len(question_pairs)\n",
    "        X = torch.zeros(n_pairs*batch_size, self.max_length, dtype=torch.long)\n",
    "        y = torch.zeros(n_pairs*batch_size, dtype=torch.long)\n",
    "        \n",
    "        for j in range(batch_size):\n",
    "            g = nx.connected_watts_strogatz_graph(self.n_nodes, k=self.k, p=self.p)\n",
    "            g.edges = np.random.permutation([np.random.permutation(edge) for edge in g.edges])    \n",
    "            for i in range(n_pairs):\n",
    "                X[j*n_pairs + i, ...], y[j*n_pairs + i] = self._generate_question_(g, question_pairs[i][0], question_pairs[i][1])\n",
    "        return X, y\n",
    "\n",
    "    def generate_batch(self, batch_size, type='train'):\n",
    "        \"\"\"\n",
    "        Generates a batch of data for training or testing.\n",
    "        Args:\n",
    "            batch_size (int): Number of samples in the batch.\n",
    "            type (str, optional): Type of data to generate ('train' or 'test'). Defaults to 'train'.\n",
    "        Returns:\n",
    "            tuple: A tuple containing the input sequences (X) and the output sequences (y).\n",
    "        \"\"\"\n",
    "        assert type in ['train', 'test'], \"type must be either 'train' or 'test'\"\n",
    "\n",
    "        if type == 'train':\n",
    "            idx = self.train_idx[torch.randint(0, self.n_train, (batch_size,))]\n",
    "        else:\n",
    "            idx = self.test_idx[torch.randint(0, self.n_test, (batch_size,))]\n",
    "        X = self.X[idx]\n",
    "        y = self.y[idx]\n",
    "        return X, y"
   ]
  },
  {
   "cell_type": "code",
   "execution_count": 6,
   "metadata": {},
   "outputs": [],
   "source": [
    "n_nodes = 10\n",
    "data = graphDataset(n_nodes=n_nodes, n_graphs=500000)"
   ]
  },
  {
   "cell_type": "code",
   "execution_count": 8,
   "metadata": {},
   "outputs": [
    {
     "name": "stdout",
     "output_type": "stream",
     "text": [
      "Epoch 0: Train Loss: 3.367769718170166, Test Loss: 2.0386252403259277, Test Accuracy: 0.25390625\n",
      "Epoch 50: Train Loss: 1.726012110710144, Test Loss: 1.7173652648925781, Test Accuracy: 0.19140625\n",
      "Epoch 100: Train Loss: 1.7040494680404663, Test Loss: 1.7061469554901123, Test Accuracy: 0.2470703125\n",
      "Epoch 150: Train Loss: 1.5872560739517212, Test Loss: 1.648963212966919, Test Accuracy: 0.341796875\n",
      "Epoch 200: Train Loss: 1.6076375246047974, Test Loss: 1.5878251791000366, Test Accuracy: 0.3935546875\n",
      "Epoch 250: Train Loss: 1.4565857648849487, Test Loss: 1.5239582061767578, Test Accuracy: 0.3935546875\n",
      "Epoch 300: Train Loss: 1.502759575843811, Test Loss: 1.5807042121887207, Test Accuracy: 0.390625\n",
      "Epoch 350: Train Loss: 1.4686214923858643, Test Loss: 1.4752033948898315, Test Accuracy: 0.416015625\n",
      "Epoch 400: Train Loss: 1.482380747795105, Test Loss: 1.4180337190628052, Test Accuracy: 0.431640625\n",
      "Epoch 450: Train Loss: 1.4754250049591064, Test Loss: 1.3841646909713745, Test Accuracy: 0.451171875\n",
      "Epoch 500: Train Loss: 1.4117182493209839, Test Loss: 1.398040771484375, Test Accuracy: 0.4306640625\n",
      "Epoch 550: Train Loss: 1.3608920574188232, Test Loss: 1.387189507484436, Test Accuracy: 0.451171875\n",
      "Epoch 600: Train Loss: 1.3838504552841187, Test Loss: 1.338378667831421, Test Accuracy: 0.4609375\n",
      "Epoch 650: Train Loss: 1.2610161304473877, Test Loss: 1.340725302696228, Test Accuracy: 0.4560546875\n",
      "Epoch 700: Train Loss: 1.097904920578003, Test Loss: 1.145784854888916, Test Accuracy: 0.53515625\n",
      "Epoch 750: Train Loss: 1.1056593656539917, Test Loss: 1.038405179977417, Test Accuracy: 0.5673828125\n",
      "Epoch 800: Train Loss: 0.9310813546180725, Test Loss: 0.9806149005889893, Test Accuracy: 0.6103515625\n",
      "Epoch 850: Train Loss: 0.9205237627029419, Test Loss: 0.9492993950843811, Test Accuracy: 0.6142578125\n",
      "Epoch 900: Train Loss: 0.9221863746643066, Test Loss: 0.9181927442550659, Test Accuracy: 0.6181640625\n",
      "Epoch 950: Train Loss: 0.861619770526886, Test Loss: 0.7872095108032227, Test Accuracy: 0.6884765625\n",
      "Epoch 1000: Train Loss: 0.8346499800682068, Test Loss: 0.8176848292350769, Test Accuracy: 0.6513671875\n",
      "Epoch 1050: Train Loss: 0.8005121350288391, Test Loss: 0.7434733510017395, Test Accuracy: 0.69921875\n",
      "Epoch 1100: Train Loss: 0.7591642737388611, Test Loss: 0.8258826732635498, Test Accuracy: 0.66015625\n",
      "Epoch 1150: Train Loss: 0.730916440486908, Test Loss: 0.7581461071968079, Test Accuracy: 0.6865234375\n",
      "Epoch 1200: Train Loss: 0.7466974258422852, Test Loss: 0.7127794623374939, Test Accuracy: 0.716796875\n",
      "Epoch 1250: Train Loss: 0.6900290250778198, Test Loss: 0.7313407063484192, Test Accuracy: 0.69921875\n",
      "Epoch 1300: Train Loss: 0.620500385761261, Test Loss: 0.6567979454994202, Test Accuracy: 0.7421875\n",
      "Epoch 1350: Train Loss: 0.5683054327964783, Test Loss: 0.6541069149971008, Test Accuracy: 0.7431640625\n",
      "Epoch 1400: Train Loss: 0.615631103515625, Test Loss: 0.6435154676437378, Test Accuracy: 0.7421875\n",
      "Epoch 1450: Train Loss: 0.5283148288726807, Test Loss: 0.6117876768112183, Test Accuracy: 0.7548828125\n",
      "Epoch 1500: Train Loss: 0.648037314414978, Test Loss: 0.5516413450241089, Test Accuracy: 0.7744140625\n",
      "Epoch 1550: Train Loss: 0.5885351300239563, Test Loss: 0.594679594039917, Test Accuracy: 0.7705078125\n",
      "Epoch 1600: Train Loss: 0.5458744764328003, Test Loss: 0.6103602647781372, Test Accuracy: 0.76171875\n",
      "Epoch 1650: Train Loss: 0.5204610228538513, Test Loss: 0.578055202960968, Test Accuracy: 0.7734375\n",
      "Epoch 1700: Train Loss: 0.507280707359314, Test Loss: 0.49286043643951416, Test Accuracy: 0.8037109375\n",
      "Epoch 1750: Train Loss: 0.4345979392528534, Test Loss: 0.4970882833003998, Test Accuracy: 0.8056640625\n",
      "Epoch 1800: Train Loss: 0.4741747975349426, Test Loss: 0.4687216877937317, Test Accuracy: 0.82421875\n",
      "Epoch 1850: Train Loss: 0.4585973620414734, Test Loss: 0.46615323424339294, Test Accuracy: 0.8173828125\n",
      "Epoch 1900: Train Loss: 0.4915752708911896, Test Loss: 0.4466649293899536, Test Accuracy: 0.8212890625\n",
      "Epoch 1950: Train Loss: 0.46827059984207153, Test Loss: 0.47050416469573975, Test Accuracy: 0.8193359375\n",
      "Epoch 2000: Train Loss: 0.47262856364250183, Test Loss: 0.4410134553909302, Test Accuracy: 0.8203125\n",
      "Epoch 2050: Train Loss: 0.46476683020591736, Test Loss: 0.5106738805770874, Test Accuracy: 0.7900390625\n",
      "Epoch 2100: Train Loss: 0.4552720785140991, Test Loss: 0.40931257605552673, Test Accuracy: 0.8369140625\n",
      "Epoch 2150: Train Loss: 0.4183051884174347, Test Loss: 0.39883914589881897, Test Accuracy: 0.83984375\n",
      "Epoch 2200: Train Loss: 0.4505559206008911, Test Loss: 0.4504988491535187, Test Accuracy: 0.826171875\n",
      "Epoch 2250: Train Loss: 0.44705599546432495, Test Loss: 0.4069229066371918, Test Accuracy: 0.8359375\n",
      "Epoch 2300: Train Loss: 0.4634334444999695, Test Loss: 0.39985132217407227, Test Accuracy: 0.8447265625\n",
      "Epoch 2350: Train Loss: 0.45357486605644226, Test Loss: 0.4158196747303009, Test Accuracy: 0.8271484375\n",
      "Epoch 2400: Train Loss: 0.373144268989563, Test Loss: 0.3810768723487854, Test Accuracy: 0.845703125\n",
      "Epoch 2450: Train Loss: 0.37833940982818604, Test Loss: 0.3620980679988861, Test Accuracy: 0.857421875\n"
     ]
    }
   ],
   "source": [
    "n_heads = 4\n",
    "n_layers = 4\n",
    "d_model = 256\n",
    "complexModel = rollout.models.FlexibleTransformer(d_model = d_model, n_tokens = data.n_tokens, max_positions = data.max_length, n_heads = n_heads, n_attn_layers = n_layers)\n",
    "optim = torch.optim.AdamW(complexModel.parameters(), lr=1e-3)\n",
    "criterion = nn.CrossEntropyLoss()\n",
    "c_train_losses, c_test_losses = rollout.models.optimize_model(complexModel, criterion, optim, data, 2500, 1024)"
   ]
  },
  {
   "cell_type": "code",
   "execution_count": 10,
   "metadata": {},
   "outputs": [
    {
     "name": "stdout",
     "output_type": "stream",
     "text": [
      "breakpoint 0. model saved!\n"
     ]
    }
   ],
   "source": [
    "def save_model(model, d_model, n_layers, n_heads, data, b=\"\"):\n",
    "    import os\n",
    "    n_noddes = data.n_nodes\n",
    "    k = data.k\n",
    "    p = data.p\n",
    "    fname = f\"data/graph_task/attention_only_nodes{n_nodes}_k{k}_p{p:.2f}_d{d_model}_{n_layers}layers_{n_heads}heads\"\n",
    "    os.makedirs(fname, exist_ok=True)\n",
    "    torch.save(model, fname + f\"/model_break{b}.pt\")\n",
    "    print(f\"breakpoint {b}. model saved!\")\n",
    "\n",
    "save_model(complexModel, d_model, n_layers, n_heads, data, b=0)"
   ]
  },
  {
   "cell_type": "code",
   "execution_count": 17,
   "metadata": {},
   "outputs": [
    {
     "name": "stderr",
     "output_type": "stream",
     "text": [
      "/var/folders/23/ryhrv04s5_q_zzrtln1zy1gc0000gn/T/ipykernel_80138/2755527001.py:1: FutureWarning: You are using `torch.load` with `weights_only=False` (the current default value), which uses the default pickle module implicitly. It is possible to construct malicious pickle data which will execute arbitrary code during unpickling (See https://github.com/pytorch/pytorch/blob/main/SECURITY.md#untrusted-models for more details). In a future release, the default value for `weights_only` will be flipped to `True`. This limits the functions that could be executed during unpickling. Arbitrary objects will no longer be allowed to be loaded via this mode unless they are explicitly allowlisted by the user via `torch.serialization.add_safe_globals`. We recommend you start setting `weights_only=True` for any use case where you don't have full control of the loaded file. Please open an issue on GitHub for any issues related to this experimental feature.\n",
      "  complexModel = torch.load(\"/Users/ehu7/Projects/TransformerCircuits/data/graph_task/attention_only_nodes10_k2_p0.40_d256_4layers_4heads/model_break1.pt\")\n"
     ]
    }
   ],
   "source": [
    "complexModel = torch.load(\"/Users/ehu7/Projects/TransformerCircuits/data/graph_task/attention_only_nodes10_k2_p0.40_d256_4layers_4heads/model_break1.pt\")\n",
    "optim = torch.optim.AdamW(complexModel.parameters(), lr=1e-4)"
   ]
  },
  {
   "cell_type": "code",
   "execution_count": 18,
   "metadata": {},
   "outputs": [
    {
     "name": "stdout",
     "output_type": "stream",
     "text": [
      "Epoch 0: Train Loss: 0.36896252632141113, Test Loss: 0.3197386562824249, Test Accuracy: 0.8681640625\n",
      "Epoch 50: Train Loss: 0.24265000224113464, Test Loss: 0.23049326241016388, Test Accuracy: 0.9111328125\n",
      "Epoch 100: Train Loss: 0.24110820889472961, Test Loss: 0.2892501652240753, Test Accuracy: 0.890625\n",
      "Epoch 150: Train Loss: 0.2215118706226349, Test Loss: 0.26334550976753235, Test Accuracy: 0.896484375\n",
      "Epoch 200: Train Loss: 0.2521728575229645, Test Loss: 0.2748861014842987, Test Accuracy: 0.8935546875\n",
      "Epoch 250: Train Loss: 0.22966845333576202, Test Loss: 0.24883858859539032, Test Accuracy: 0.9033203125\n",
      "Epoch 300: Train Loss: 0.22744221985340118, Test Loss: 0.22530707716941833, Test Accuracy: 0.9052734375\n",
      "Epoch 350: Train Loss: 0.21499931812286377, Test Loss: 0.2603859305381775, Test Accuracy: 0.908203125\n",
      "Epoch 400: Train Loss: 0.2071329802274704, Test Loss: 0.23553234338760376, Test Accuracy: 0.8984375\n",
      "Epoch 450: Train Loss: 0.1813821792602539, Test Loss: 0.18815644085407257, Test Accuracy: 0.9150390625\n",
      "breakpoint 1. model saved!\n"
     ]
    }
   ],
   "source": [
    "c_train_losses, c_test_losses = rollout.models.optimize_model(complexModel, criterion, optim, data, 500, 1024)\n",
    "save_model(complexModel, d_model, n_layers, n_heads, data, b=1)"
   ]
  },
  {
   "cell_type": "code",
   "execution_count": 19,
   "metadata": {},
   "outputs": [
    {
     "name": "stdout",
     "output_type": "stream",
     "text": [
      "Epoch 0: Train Loss: 0.1615617573261261, Test Loss: 0.22071903944015503, Test Accuracy: 0.9111328125\n",
      "Epoch 50: Train Loss: 0.18030017614364624, Test Loss: 0.22665318846702576, Test Accuracy: 0.919921875\n",
      "Epoch 100: Train Loss: 0.20354212820529938, Test Loss: 0.2397526353597641, Test Accuracy: 0.908203125\n",
      "Epoch 150: Train Loss: 0.17516149580478668, Test Loss: 0.2189871370792389, Test Accuracy: 0.90625\n",
      "Epoch 200: Train Loss: 0.2013157457113266, Test Loss: 0.19535888731479645, Test Accuracy: 0.91796875\n",
      "Epoch 250: Train Loss: 0.2177368402481079, Test Loss: 0.2125050574541092, Test Accuracy: 0.900390625\n",
      "Epoch 300: Train Loss: 0.18671181797981262, Test Loss: 0.2318040430545807, Test Accuracy: 0.9033203125\n",
      "Epoch 350: Train Loss: 0.17531582713127136, Test Loss: 0.22018200159072876, Test Accuracy: 0.908203125\n",
      "Epoch 400: Train Loss: 0.15200279653072357, Test Loss: 0.24335573613643646, Test Accuracy: 0.908203125\n",
      "Epoch 450: Train Loss: 0.19673676788806915, Test Loss: 0.22288355231285095, Test Accuracy: 0.9091796875\n",
      "breakpoint 2. model saved!\n"
     ]
    }
   ],
   "source": [
    "c_train_losses, c_test_losses = rollout.models.optimize_model(complexModel, criterion, optim, data, 500, 1024)\n",
    "save_model(complexModel, d_model, n_layers, n_heads, data, b=2)"
   ]
  },
  {
   "cell_type": "code",
   "execution_count": 20,
   "metadata": {},
   "outputs": [],
   "source": [
    "lr = 5e-5\n",
    "for group in optim.param_groups:\n",
    "        group['lr'] = lr"
   ]
  },
  {
   "cell_type": "code",
   "execution_count": 21,
   "metadata": {},
   "outputs": [
    {
     "name": "stdout",
     "output_type": "stream",
     "text": [
      "Epoch 0: Train Loss: 0.18481840193271637, Test Loss: 0.1819692701101303, Test Accuracy: 0.9296875\n",
      "Epoch 50: Train Loss: 0.18087396025657654, Test Loss: 0.1757100373506546, Test Accuracy: 0.9326171875\n",
      "Epoch 100: Train Loss: 0.16194897890090942, Test Loss: 0.2095002681016922, Test Accuracy: 0.916015625\n",
      "Epoch 150: Train Loss: 0.1468619704246521, Test Loss: 0.18916884064674377, Test Accuracy: 0.921875\n",
      "Epoch 200: Train Loss: 0.1823468953371048, Test Loss: 0.20254060626029968, Test Accuracy: 0.9248046875\n",
      "Epoch 250: Train Loss: 0.1546923965215683, Test Loss: 0.23210394382476807, Test Accuracy: 0.9150390625\n",
      "Epoch 300: Train Loss: 0.16081002354621887, Test Loss: 0.25278618931770325, Test Accuracy: 0.904296875\n",
      "Epoch 350: Train Loss: 0.14964386820793152, Test Loss: 0.20488354563713074, Test Accuracy: 0.9248046875\n",
      "Epoch 400: Train Loss: 0.1476648896932602, Test Loss: 0.17662368714809418, Test Accuracy: 0.9296875\n",
      "Epoch 450: Train Loss: 0.16502302885055542, Test Loss: 0.22346407175064087, Test Accuracy: 0.908203125\n",
      "Epoch 500: Train Loss: 0.14531758427619934, Test Loss: 0.24500113725662231, Test Accuracy: 0.912109375\n",
      "Epoch 550: Train Loss: 0.1419585794210434, Test Loss: 0.20422504842281342, Test Accuracy: 0.9326171875\n",
      "Epoch 600: Train Loss: 0.1760300248861313, Test Loss: 0.20596635341644287, Test Accuracy: 0.91796875\n",
      "Epoch 650: Train Loss: 0.1295926868915558, Test Loss: 0.1881425380706787, Test Accuracy: 0.923828125\n",
      "Epoch 700: Train Loss: 0.14463773369789124, Test Loss: 0.24088989198207855, Test Accuracy: 0.9072265625\n",
      "Epoch 750: Train Loss: 0.18630948662757874, Test Loss: 0.17389145493507385, Test Accuracy: 0.9384765625\n",
      "Epoch 800: Train Loss: 0.1703011840581894, Test Loss: 0.17706573009490967, Test Accuracy: 0.931640625\n",
      "Epoch 850: Train Loss: 0.13754013180732727, Test Loss: 0.22354453802108765, Test Accuracy: 0.9248046875\n",
      "Epoch 900: Train Loss: 0.1653827279806137, Test Loss: 0.19771218299865723, Test Accuracy: 0.9248046875\n",
      "Epoch 950: Train Loss: 0.1248999685049057, Test Loss: 0.20986133813858032, Test Accuracy: 0.919921875\n",
      "Epoch 1000: Train Loss: 0.1556130051612854, Test Loss: 0.16990774869918823, Test Accuracy: 0.9326171875\n",
      "Epoch 1050: Train Loss: 0.14772556722164154, Test Loss: 0.1945025622844696, Test Accuracy: 0.923828125\n",
      "Epoch 1100: Train Loss: 0.12750490009784698, Test Loss: 0.1992036998271942, Test Accuracy: 0.9150390625\n",
      "Epoch 1150: Train Loss: 0.12333307415246964, Test Loss: 0.17336654663085938, Test Accuracy: 0.9365234375\n",
      "Epoch 1200: Train Loss: 0.16836506128311157, Test Loss: 0.17638862133026123, Test Accuracy: 0.9404296875\n",
      "Epoch 1250: Train Loss: 0.15430733561515808, Test Loss: 0.20219340920448303, Test Accuracy: 0.9228515625\n",
      "Epoch 1300: Train Loss: 0.15514785051345825, Test Loss: 0.23621195554733276, Test Accuracy: 0.912109375\n",
      "Epoch 1350: Train Loss: 0.14777307212352753, Test Loss: 0.19499008357524872, Test Accuracy: 0.9267578125\n",
      "Epoch 1400: Train Loss: 0.1557222306728363, Test Loss: 0.1731659173965454, Test Accuracy: 0.93359375\n",
      "Epoch 1450: Train Loss: 0.13027969002723694, Test Loss: 0.19492845237255096, Test Accuracy: 0.9267578125\n",
      "Epoch 1500: Train Loss: 0.1361038088798523, Test Loss: 0.25933000445365906, Test Accuracy: 0.9130859375\n",
      "Epoch 1550: Train Loss: 0.14395907521247864, Test Loss: 0.19535388052463531, Test Accuracy: 0.9248046875\n",
      "Epoch 1600: Train Loss: 0.1117204874753952, Test Loss: 0.2059386521577835, Test Accuracy: 0.927734375\n",
      "Epoch 1650: Train Loss: 0.14841431379318237, Test Loss: 0.1847456395626068, Test Accuracy: 0.9306640625\n",
      "Epoch 1700: Train Loss: 0.15313300490379333, Test Loss: 0.18621286749839783, Test Accuracy: 0.9248046875\n",
      "Epoch 1750: Train Loss: 0.16322091221809387, Test Loss: 0.24279329180717468, Test Accuracy: 0.9013671875\n",
      "Epoch 1800: Train Loss: 0.14062617719173431, Test Loss: 0.2441670149564743, Test Accuracy: 0.9208984375\n",
      "Epoch 1850: Train Loss: 0.1476401388645172, Test Loss: 0.20400671660900116, Test Accuracy: 0.9150390625\n",
      "Epoch 1900: Train Loss: 0.12750406563282013, Test Loss: 0.19777131080627441, Test Accuracy: 0.9228515625\n",
      "Epoch 1950: Train Loss: 0.13644029200077057, Test Loss: 0.20344626903533936, Test Accuracy: 0.9248046875\n",
      "Epoch 2000: Train Loss: 0.138067364692688, Test Loss: 0.18545684218406677, Test Accuracy: 0.931640625\n",
      "Epoch 2050: Train Loss: 0.13891389966011047, Test Loss: 0.1767672896385193, Test Accuracy: 0.9248046875\n",
      "Epoch 2100: Train Loss: 0.15162356197834015, Test Loss: 0.21332234144210815, Test Accuracy: 0.912109375\n",
      "Epoch 2150: Train Loss: 0.11594244837760925, Test Loss: 0.23792821168899536, Test Accuracy: 0.92578125\n",
      "Epoch 2200: Train Loss: 0.12172853201627731, Test Loss: 0.18579542636871338, Test Accuracy: 0.935546875\n",
      "Epoch 2250: Train Loss: 0.12892872095108032, Test Loss: 0.26314783096313477, Test Accuracy: 0.912109375\n",
      "Epoch 2300: Train Loss: 0.11659686267375946, Test Loss: 0.2218775600194931, Test Accuracy: 0.9130859375\n",
      "Epoch 2350: Train Loss: 0.13335274159908295, Test Loss: 0.22759373486042023, Test Accuracy: 0.9228515625\n",
      "Epoch 2400: Train Loss: 0.13387981057167053, Test Loss: 0.2434917837381363, Test Accuracy: 0.9189453125\n",
      "Epoch 2450: Train Loss: 0.13505510985851288, Test Loss: 0.21282148361206055, Test Accuracy: 0.9267578125\n",
      "Epoch 2500: Train Loss: 0.14860491454601288, Test Loss: 0.2159576117992401, Test Accuracy: 0.919921875\n",
      "Epoch 2550: Train Loss: 0.12246951460838318, Test Loss: 0.18855994939804077, Test Accuracy: 0.91796875\n",
      "Epoch 2600: Train Loss: 0.13668884336948395, Test Loss: 0.2183334231376648, Test Accuracy: 0.9208984375\n",
      "Epoch 2650: Train Loss: 0.1357784867286682, Test Loss: 0.19289733469486237, Test Accuracy: 0.931640625\n",
      "Epoch 2700: Train Loss: 0.11971434950828552, Test Loss: 0.18818439543247223, Test Accuracy: 0.927734375\n",
      "Epoch 2750: Train Loss: 0.1554010659456253, Test Loss: 0.25278210639953613, Test Accuracy: 0.919921875\n",
      "Epoch 2800: Train Loss: 0.10661374032497406, Test Loss: 0.22792409360408783, Test Accuracy: 0.9248046875\n",
      "Epoch 2850: Train Loss: 0.1196710541844368, Test Loss: 0.21256335079669952, Test Accuracy: 0.9248046875\n",
      "Epoch 2900: Train Loss: 0.11573604494333267, Test Loss: 0.18813365697860718, Test Accuracy: 0.9365234375\n",
      "Epoch 2950: Train Loss: 0.11635088920593262, Test Loss: 0.22611501812934875, Test Accuracy: 0.921875\n",
      "Epoch 3000: Train Loss: 0.11787394434213638, Test Loss: 0.21908128261566162, Test Accuracy: 0.921875\n",
      "Epoch 3050: Train Loss: 0.1252375692129135, Test Loss: 0.20889568328857422, Test Accuracy: 0.9248046875\n",
      "Epoch 3100: Train Loss: 0.12251068651676178, Test Loss: 0.21262723207473755, Test Accuracy: 0.931640625\n",
      "Epoch 3150: Train Loss: 0.10107462108135223, Test Loss: 0.21452413499355316, Test Accuracy: 0.92578125\n",
      "Epoch 3200: Train Loss: 0.13935980200767517, Test Loss: 0.28552719950675964, Test Accuracy: 0.912109375\n",
      "Epoch 3250: Train Loss: 0.1407974660396576, Test Loss: 0.20579645037651062, Test Accuracy: 0.9248046875\n",
      "Epoch 3300: Train Loss: 0.12989863753318787, Test Loss: 0.1869654655456543, Test Accuracy: 0.9228515625\n",
      "Epoch 3350: Train Loss: 0.10876359045505524, Test Loss: 0.20417271554470062, Test Accuracy: 0.9326171875\n",
      "Epoch 3400: Train Loss: 0.13490930199623108, Test Loss: 0.24092641472816467, Test Accuracy: 0.921875\n",
      "Epoch 3450: Train Loss: 0.11111580580472946, Test Loss: 0.22503991425037384, Test Accuracy: 0.927734375\n",
      "Epoch 3500: Train Loss: 0.12304031103849411, Test Loss: 0.2048526257276535, Test Accuracy: 0.927734375\n",
      "Epoch 3550: Train Loss: 0.13594529032707214, Test Loss: 0.22801384329795837, Test Accuracy: 0.9189453125\n",
      "Epoch 3600: Train Loss: 0.11469116061925888, Test Loss: 0.20534206926822662, Test Accuracy: 0.9287109375\n",
      "Epoch 3650: Train Loss: 0.13253329694271088, Test Loss: 0.2552530765533447, Test Accuracy: 0.91015625\n",
      "Epoch 3700: Train Loss: 0.14435721933841705, Test Loss: 0.2338450849056244, Test Accuracy: 0.9189453125\n",
      "Epoch 3750: Train Loss: 0.11617941409349442, Test Loss: 0.19809330999851227, Test Accuracy: 0.93359375\n",
      "Epoch 3800: Train Loss: 0.10590490698814392, Test Loss: 0.21980181336402893, Test Accuracy: 0.9189453125\n",
      "Epoch 3850: Train Loss: 0.12564975023269653, Test Loss: 0.21497341990470886, Test Accuracy: 0.927734375\n",
      "Epoch 3900: Train Loss: 0.129031240940094, Test Loss: 0.19979147613048553, Test Accuracy: 0.9208984375\n",
      "Epoch 3950: Train Loss: 0.108624666929245, Test Loss: 0.23281003534793854, Test Accuracy: 0.923828125\n",
      "Epoch 4000: Train Loss: 0.12656870484352112, Test Loss: 0.22234030067920685, Test Accuracy: 0.9189453125\n",
      "Epoch 4050: Train Loss: 0.12335315346717834, Test Loss: 0.19979584217071533, Test Accuracy: 0.9140625\n",
      "Epoch 4100: Train Loss: 0.11028795689344406, Test Loss: 0.2955361008644104, Test Accuracy: 0.90234375\n",
      "Epoch 4150: Train Loss: 0.10234448313713074, Test Loss: 0.23837056756019592, Test Accuracy: 0.91796875\n",
      "Epoch 4200: Train Loss: 0.11279426515102386, Test Loss: 0.2102677971124649, Test Accuracy: 0.927734375\n",
      "Epoch 4250: Train Loss: 0.09025705605745316, Test Loss: 0.2681955397129059, Test Accuracy: 0.919921875\n",
      "Epoch 4300: Train Loss: 0.12252754718065262, Test Loss: 0.20383013784885406, Test Accuracy: 0.9296875\n",
      "Epoch 4350: Train Loss: 0.14330635964870453, Test Loss: 0.23737937211990356, Test Accuracy: 0.9267578125\n",
      "Epoch 4400: Train Loss: 0.10842326283454895, Test Loss: 0.2416217178106308, Test Accuracy: 0.92578125\n",
      "Epoch 4450: Train Loss: 0.09451549500226974, Test Loss: 0.2018982470035553, Test Accuracy: 0.9248046875\n",
      "Epoch 4500: Train Loss: 0.10497526079416275, Test Loss: 0.2591535449028015, Test Accuracy: 0.9169921875\n",
      "Epoch 4550: Train Loss: 0.11829089373350143, Test Loss: 0.22086818516254425, Test Accuracy: 0.916015625\n",
      "Epoch 4600: Train Loss: 0.11207982152700424, Test Loss: 0.2388852834701538, Test Accuracy: 0.916015625\n",
      "Epoch 4650: Train Loss: 0.12539298832416534, Test Loss: 0.188846156001091, Test Accuracy: 0.9365234375\n",
      "Epoch 4700: Train Loss: 0.11028501391410828, Test Loss: 0.15466219186782837, Test Accuracy: 0.9423828125\n",
      "Epoch 4750: Train Loss: 0.1087830439209938, Test Loss: 0.24937301874160767, Test Accuracy: 0.9091796875\n",
      "Epoch 4800: Train Loss: 0.1275569349527359, Test Loss: 0.20738790929317474, Test Accuracy: 0.9326171875\n",
      "Epoch 4850: Train Loss: 0.09597127884626389, Test Loss: 0.22660738229751587, Test Accuracy: 0.931640625\n",
      "Epoch 4900: Train Loss: 0.11709564924240112, Test Loss: 0.19594550132751465, Test Accuracy: 0.9208984375\n",
      "Epoch 4950: Train Loss: 0.10143684595823288, Test Loss: 0.24545489251613617, Test Accuracy: 0.92578125\n",
      "breakpoint 2. model saved!\n"
     ]
    }
   ],
   "source": [
    "c_train_losses_2, c_test_losses_2 = rollout.models.optimize_model(complexModel, criterion, optim, data, 5000, 1024)\n",
    "save_model(complexModel, d_model, n_layers, n_heads, data, b=2)"
   ]
  },
  {
   "cell_type": "code",
   "execution_count": 22,
   "metadata": {},
   "outputs": [],
   "source": [
    "lr = 1e-5\n",
    "for group in optim.param_groups:\n",
    "        group['lr'] = lr"
   ]
  },
  {
   "cell_type": "code",
   "execution_count": 25,
   "metadata": {},
   "outputs": [
    {
     "name": "stdout",
     "output_type": "stream",
     "text": [
      "breakpoint 3. model saved!\n"
     ]
    }
   ],
   "source": [
    "save_model(complexModel, d_model, n_layers, n_heads, data, b=3)"
   ]
  },
  {
   "cell_type": "code",
   "execution_count": 24,
   "metadata": {},
   "outputs": [
    {
     "name": "stdout",
     "output_type": "stream",
     "text": [
      "Epoch 0: Train Loss: 0.11200858652591705, Test Loss: 0.24422238767147064, Test Accuracy: 0.9267578125\n"
     ]
    },
    {
     "ename": "KeyboardInterrupt",
     "evalue": "",
     "output_type": "error",
     "traceback": [
      "\u001b[0;31m---------------------------------------------------------------------------\u001b[0m",
      "\u001b[0;31mKeyboardInterrupt\u001b[0m                         Traceback (most recent call last)",
      "Cell \u001b[0;32mIn[24], line 1\u001b[0m\n\u001b[0;32m----> 1\u001b[0m c_train_losses_4, c_test_losses_4 \u001b[38;5;241m=\u001b[39m \u001b[43mrollout\u001b[49m\u001b[38;5;241;43m.\u001b[39;49m\u001b[43mmodels\u001b[49m\u001b[38;5;241;43m.\u001b[39;49m\u001b[43moptimize_model\u001b[49m\u001b[43m(\u001b[49m\u001b[43mcomplexModel\u001b[49m\u001b[43m,\u001b[49m\u001b[43m \u001b[49m\u001b[43mcriterion\u001b[49m\u001b[43m,\u001b[49m\u001b[43m \u001b[49m\u001b[43moptim\u001b[49m\u001b[43m,\u001b[49m\u001b[43m \u001b[49m\u001b[43mdata\u001b[49m\u001b[43m,\u001b[49m\u001b[43m \u001b[49m\u001b[38;5;241;43m1000\u001b[39;49m\u001b[43m,\u001b[49m\u001b[43m \u001b[49m\u001b[38;5;241;43m1024\u001b[39;49m\u001b[43m)\u001b[49m\n\u001b[1;32m      2\u001b[0m save_model(complexModel, d_model, n_layers, n_heads, data, b\u001b[38;5;241m=\u001b[39m\u001b[38;5;241m3\u001b[39m)\n",
      "File \u001b[0;32m~/Projects/TransformerCircuits/src/rollout/models.py:107\u001b[0m, in \u001b[0;36moptimize_model\u001b[0;34m(model, criterion, optimizer, dataset, n_epochs, batch_size)\u001b[0m\n\u001b[1;32m    105\u001b[0m y_pred \u001b[38;5;241m=\u001b[39m model(X)\n\u001b[1;32m    106\u001b[0m loss \u001b[38;5;241m=\u001b[39m criterion(y_pred, y)\n\u001b[0;32m--> 107\u001b[0m \u001b[43mloss\u001b[49m\u001b[38;5;241;43m.\u001b[39;49m\u001b[43mbackward\u001b[49m\u001b[43m(\u001b[49m\u001b[43m)\u001b[49m\n\u001b[1;32m    108\u001b[0m optimizer\u001b[38;5;241m.\u001b[39mstep()\n\u001b[1;32m    109\u001b[0m train_losses\u001b[38;5;241m.\u001b[39mappend(loss\u001b[38;5;241m.\u001b[39mitem())\n",
      "File \u001b[0;32m/opt/anaconda3/envs/TransformerCircuits/lib/python3.9/site-packages/torch/_tensor.py:581\u001b[0m, in \u001b[0;36mTensor.backward\u001b[0;34m(self, gradient, retain_graph, create_graph, inputs)\u001b[0m\n\u001b[1;32m    571\u001b[0m \u001b[38;5;28;01mif\u001b[39;00m has_torch_function_unary(\u001b[38;5;28mself\u001b[39m):\n\u001b[1;32m    572\u001b[0m     \u001b[38;5;28;01mreturn\u001b[39;00m handle_torch_function(\n\u001b[1;32m    573\u001b[0m         Tensor\u001b[38;5;241m.\u001b[39mbackward,\n\u001b[1;32m    574\u001b[0m         (\u001b[38;5;28mself\u001b[39m,),\n\u001b[0;32m   (...)\u001b[0m\n\u001b[1;32m    579\u001b[0m         inputs\u001b[38;5;241m=\u001b[39minputs,\n\u001b[1;32m    580\u001b[0m     )\n\u001b[0;32m--> 581\u001b[0m \u001b[43mtorch\u001b[49m\u001b[38;5;241;43m.\u001b[39;49m\u001b[43mautograd\u001b[49m\u001b[38;5;241;43m.\u001b[39;49m\u001b[43mbackward\u001b[49m\u001b[43m(\u001b[49m\n\u001b[1;32m    582\u001b[0m \u001b[43m    \u001b[49m\u001b[38;5;28;43mself\u001b[39;49m\u001b[43m,\u001b[49m\u001b[43m \u001b[49m\u001b[43mgradient\u001b[49m\u001b[43m,\u001b[49m\u001b[43m \u001b[49m\u001b[43mretain_graph\u001b[49m\u001b[43m,\u001b[49m\u001b[43m \u001b[49m\u001b[43mcreate_graph\u001b[49m\u001b[43m,\u001b[49m\u001b[43m \u001b[49m\u001b[43minputs\u001b[49m\u001b[38;5;241;43m=\u001b[39;49m\u001b[43minputs\u001b[49m\n\u001b[1;32m    583\u001b[0m \u001b[43m\u001b[49m\u001b[43m)\u001b[49m\n",
      "File \u001b[0;32m/opt/anaconda3/envs/TransformerCircuits/lib/python3.9/site-packages/torch/autograd/__init__.py:347\u001b[0m, in \u001b[0;36mbackward\u001b[0;34m(tensors, grad_tensors, retain_graph, create_graph, grad_variables, inputs)\u001b[0m\n\u001b[1;32m    342\u001b[0m     retain_graph \u001b[38;5;241m=\u001b[39m create_graph\n\u001b[1;32m    344\u001b[0m \u001b[38;5;66;03m# The reason we repeat the same comment below is that\u001b[39;00m\n\u001b[1;32m    345\u001b[0m \u001b[38;5;66;03m# some Python versions print out the first line of a multi-line function\u001b[39;00m\n\u001b[1;32m    346\u001b[0m \u001b[38;5;66;03m# calls in the traceback and some print out the last line\u001b[39;00m\n\u001b[0;32m--> 347\u001b[0m \u001b[43m_engine_run_backward\u001b[49m\u001b[43m(\u001b[49m\n\u001b[1;32m    348\u001b[0m \u001b[43m    \u001b[49m\u001b[43mtensors\u001b[49m\u001b[43m,\u001b[49m\n\u001b[1;32m    349\u001b[0m \u001b[43m    \u001b[49m\u001b[43mgrad_tensors_\u001b[49m\u001b[43m,\u001b[49m\n\u001b[1;32m    350\u001b[0m \u001b[43m    \u001b[49m\u001b[43mretain_graph\u001b[49m\u001b[43m,\u001b[49m\n\u001b[1;32m    351\u001b[0m \u001b[43m    \u001b[49m\u001b[43mcreate_graph\u001b[49m\u001b[43m,\u001b[49m\n\u001b[1;32m    352\u001b[0m \u001b[43m    \u001b[49m\u001b[43minputs\u001b[49m\u001b[43m,\u001b[49m\n\u001b[1;32m    353\u001b[0m \u001b[43m    \u001b[49m\u001b[43mallow_unreachable\u001b[49m\u001b[38;5;241;43m=\u001b[39;49m\u001b[38;5;28;43;01mTrue\u001b[39;49;00m\u001b[43m,\u001b[49m\n\u001b[1;32m    354\u001b[0m \u001b[43m    \u001b[49m\u001b[43maccumulate_grad\u001b[49m\u001b[38;5;241;43m=\u001b[39;49m\u001b[38;5;28;43;01mTrue\u001b[39;49;00m\u001b[43m,\u001b[49m\n\u001b[1;32m    355\u001b[0m \u001b[43m\u001b[49m\u001b[43m)\u001b[49m\n",
      "File \u001b[0;32m/opt/anaconda3/envs/TransformerCircuits/lib/python3.9/site-packages/torch/autograd/graph.py:825\u001b[0m, in \u001b[0;36m_engine_run_backward\u001b[0;34m(t_outputs, *args, **kwargs)\u001b[0m\n\u001b[1;32m    823\u001b[0m     unregister_hooks \u001b[38;5;241m=\u001b[39m _register_logging_hooks_on_whole_graph(t_outputs)\n\u001b[1;32m    824\u001b[0m \u001b[38;5;28;01mtry\u001b[39;00m:\n\u001b[0;32m--> 825\u001b[0m     \u001b[38;5;28;01mreturn\u001b[39;00m \u001b[43mVariable\u001b[49m\u001b[38;5;241;43m.\u001b[39;49m\u001b[43m_execution_engine\u001b[49m\u001b[38;5;241;43m.\u001b[39;49m\u001b[43mrun_backward\u001b[49m\u001b[43m(\u001b[49m\u001b[43m  \u001b[49m\u001b[38;5;66;43;03m# Calls into the C++ engine to run the backward pass\u001b[39;49;00m\n\u001b[1;32m    826\u001b[0m \u001b[43m        \u001b[49m\u001b[43mt_outputs\u001b[49m\u001b[43m,\u001b[49m\u001b[43m \u001b[49m\u001b[38;5;241;43m*\u001b[39;49m\u001b[43margs\u001b[49m\u001b[43m,\u001b[49m\u001b[43m \u001b[49m\u001b[38;5;241;43m*\u001b[39;49m\u001b[38;5;241;43m*\u001b[39;49m\u001b[43mkwargs\u001b[49m\n\u001b[1;32m    827\u001b[0m \u001b[43m    \u001b[49m\u001b[43m)\u001b[49m  \u001b[38;5;66;03m# Calls into the C++ engine to run the backward pass\u001b[39;00m\n\u001b[1;32m    828\u001b[0m \u001b[38;5;28;01mfinally\u001b[39;00m:\n\u001b[1;32m    829\u001b[0m     \u001b[38;5;28;01mif\u001b[39;00m attach_logging_hooks:\n",
      "\u001b[0;31mKeyboardInterrupt\u001b[0m: "
     ]
    }
   ],
   "source": [
    "c_train_losses_4, c_test_losses_4 = rollout.models.optimize_model(complexModel, criterion, optim, data, 1000, 1024)\n",
    "save_model(complexModel, d_model, n_layers, n_heads, data, b=3)"
   ]
  },
  {
   "cell_type": "code",
   "execution_count": 757,
   "metadata": {},
   "outputs": [
    {
     "name": "stdout",
     "output_type": "stream",
     "text": [
      "test accuracy:  0.9829999804496765\n"
     ]
    }
   ],
   "source": [
    "X, y = data.generate_batch(1000, type='test')\n",
    "test_correct_pct = (torch.argmax(complexModel(X), axis=1) == y).float().mean()\n",
    "print(\"test accuracy: \", test_correct_pct.item())"
   ]
  },
  {
   "cell_type": "code",
   "execution_count": 760,
   "metadata": {},
   "outputs": [],
   "source": [
    "def generate_question_batch_single_graph(g=None):\n",
    "    if g is None:\n",
    "        g = data._generate_graph()\n",
    "    possbile_questions = list(combinations(range(5), 2))\n",
    "    question_batch = torch.zeros(len(possbile_questions), data.max_length, dtype=torch.long)\n",
    "    answer_batch = torch.zeros(len(possbile_questions), dtype=torch.long)\n",
    "\n",
    "    for i, question in enumerate(possbile_questions):\n",
    "        question_batch[i, :], answer_batch[i] = data._generate_question_(g, question[0], question[1])\n",
    "    return question_batch, answer_batch\n",
    "\n",
    "\n",
    "import einops\n",
    "def concat_attn(attn):\n",
    "    cat_attn = torch.cat([a.unsqueeze(0) for a in attn], dim=0)\n",
    "    return einops.rearrange(cat_attn, 'l b ... -> b l ...')\n"
   ]
  },
  {
   "cell_type": "code",
   "execution_count": 761,
   "metadata": {},
   "outputs": [],
   "source": [
    "question_batch, answer_batch = generate_question_batch_single_graph()\n",
    "# [batch, layer, head, query, key]\n",
    "logits, attn = complexModel.forward_with_weights(question_batch)\n",
    "attn = concat_attn(attn)"
   ]
  },
  {
   "cell_type": "code",
   "execution_count": 763,
   "metadata": {},
   "outputs": [
    {
     "name": "stderr",
     "output_type": "stream",
     "text": [
      "100%|██████████| 5000/5000 [00:13<00:00, 367.45it/s]\n"
     ]
    }
   ],
   "source": [
    "from tqdm import trange\n",
    "n_iters = 5000\n",
    "attn_stds = []\n",
    "attn_means = []\n",
    "for i in trange(n_iters):\n",
    "    question_batch, answer_batch = generate_question_batch_single_graph()\n",
    "    logits, attn = complexModel.forward_with_weights(question_batch)\n",
    "    attn = concat_attn(attn)\n",
    "    attn_stds.append(attn.std(axis=0).unsqueeze(0).detach().numpy())\n",
    "    attn_means.append(attn.mean(axis=0).unsqueeze(0).detach().numpy())"
   ]
  },
  {
   "cell_type": "code",
   "execution_count": 766,
   "metadata": {},
   "outputs": [],
   "source": [
    "attn_stds = np.vstack(attn_stds)\n",
    "attn_means = np.vstack(attn_means)"
   ]
  },
  {
   "cell_type": "code",
   "execution_count": 771,
   "metadata": {},
   "outputs": [
    {
     "data": {
      "image/png": "[encoded data removed]",
      "text/plain": [
       "<Figure size 1000x500 with 2 Axes>"
      ]
     },
     "metadata": {},
     "output_type": "display_data"
    }
   ],
   "source": [
    "labels = []\n",
    "for i in range(6):\n",
    "    labels.append(f\"x{i}\")\n",
    "    labels.append(f\"y{i}\")\n",
    "    \n",
    "    if i == 5:\n",
    "        labels.append(\"?\")\n",
    "    else:\n",
    "       labels.append(f\".{i}\")\n",
    "       \n",
    "layer = 2\n",
    "head = 0\n",
    "cmap = plt.cm.viridis\n",
    "fig, ax = plt.subplots(1, 2, figsize=(10, 5))\n",
    "im = attn_means[:, layer, head, :, :].mean(axis=0)\n",
    "ax[0].imshow(im, cmap=cmap, vmin=0, vmax=0.75)\n",
    "for i in range(2):\n",
    "    ax[i].set_xticks(np.arange(18), labels)\n",
    "    ax[i].set_yticks(np.arange(18), labels)\n",
    "\n",
    "for i in range(18):\n",
    "    im[i, i] = np.nan\n",
    "ax[1].imshow(im, cmap=cmap, vmin=0, vmax=0.75)\n",
    "ax[1].grid(True)\n",
    "\n",
    "\n",
    "plt.show()\n"
   ]
  },
  {
   "cell_type": "code",
   "execution_count": 773,
   "metadata": {},
   "outputs": [],
   "source": [
    "def apply_triu_mask(im, k = 1):\n",
    "    mask = np.ones_like(im)\n",
    "    triu_mask = np.triu_indices_from(mask, k=k)\n",
    "    im[triu_mask] = np.nan\n",
    "    return im\n"
   ]
  },
  {
   "cell_type": "code",
   "execution_count": 774,
   "metadata": {},
   "outputs": [
    {
     "name": "stdout",
     "output_type": "stream",
     "text": [
      "ea.ed.dc.eb.ab.ab?\n"
     ]
    }
   ],
   "source": [
    "g = data._generate_graph()\n",
    "question_batch, answer_batch = generate_question_batch_single_graph(g)\n",
    "logits, attn = complexModel.forward_with_weights(question_batch)\n",
    "attn = concat_attn(attn)\n",
    "\n",
    "ticks = [data.inverse_map[q] for q in question_batch[0].detach().numpy()]\n",
    "print(\"\".join(ticks))"
   ]
  },
  {
   "cell_type": "code",
   "execution_count": 782,
   "metadata": {},
   "outputs": [],
   "source": [
    "samp = 0\n",
    "def get_same_token_scores(question_batch, attn_batch):\n",
    "    n_samp = attn_batch.shape[0]\n",
    "    same_token_scores = np.empty((n_samp, 2, 3))\n",
    "    for samp in range(n_samp):\n",
    "        for layer in range(3):\n",
    "            q_np = question_batch[samp].detach().numpy()\n",
    "            attn_np = attn_batch[samp, layer, 0, :, :].detach().numpy()\n",
    "            same_tokens_idx = apply_triu_mask(np.array(q_np.reshape(-1, 1) == q_np.reshape(1, -1), dtype = float), k = 0)\n",
    "\n",
    "            grammar_idx = (q_np == 10)\n",
    "            grammar_mat = grammar_idx.reshape(-1, 1) | grammar_idx.reshape(1, -1)\n",
    "            grammar_mat = apply_triu_mask(np.array(grammar_mat, dtype=float), k=0)\n",
    "\n",
    "            question_idx = np.zeros(18, dtype=bool)\n",
    "            question_idx[-3:] = True\n",
    "            question_idx = question_idx.reshape(-1, 1) | question_idx.reshape(1, -1)\n",
    "            question_idx = apply_triu_mask(np.array(question_idx, dtype=float), k=0)\n",
    "\n",
    "\n",
    "            same_token_scores_samp = attn_np[(same_tokens_idx == 1) & (grammar_mat == 0) & (question_idx == 0)]\n",
    "            other_token_scores_samp = attn_np[(same_tokens_idx == 0) & (grammar_mat == 0) & (question_idx == 0)]\n",
    "\n",
    "            same_token_scores[samp, :, layer] = np.array([same_token_scores_samp.mean(), other_token_scores_samp.mean()])\n",
    "    return same_token_scores\n",
    "\n",
    "question_batch, answer_batch = data.generate_batch(5000, type='test')\n",
    "logits, attn_batch = complexModel.forward_with_weights(question_batch)\n",
    "attn_batch = concat_attn(attn_batch)"
   ]
  },
  {
   "cell_type": "code",
   "execution_count": 780,
   "metadata": {},
   "outputs": [
    {
     "data": {
      "image/png": "[encoded data removed]",
      "text/plain": [
       "<Figure size 640x480 with 1 Axes>"
      ]
     },
     "metadata": {},
     "output_type": "display_data"
    }
   ],
   "source": [
    "layer = 2\n",
    "samp = 1\n",
    "ticks = [data.inverse_map[q] for q in question_batch[samp].detach().numpy()]\n",
    "im = apply_triu_mask(attn_batch[samp, layer, 0, :, :].detach().numpy())\n",
    "plt.imshow(im, cmap=cmap, vmax = 0.75)\n",
    "plt.xticks(range(len(ticks)), ticks)\n",
    "plt.yticks(range(len(ticks)), ticks)\n",
    "plt.xlim([-0.5, 16.5])\n",
    "plt.ylim([-0.5, 16.5])\n",
    "plt.gca().invert_yaxis()\n",
    "plt.show()"
   ]
  },
  {
   "cell_type": "code",
   "execution_count": 783,
   "metadata": {},
   "outputs": [],
   "source": [
    "same_token_scores = get_same_token_scores(question_batch, attn_batch)"
   ]
  },
  {
   "cell_type": "code",
   "execution_count": 785,
   "metadata": {},
   "outputs": [
    {
     "data": {
      "image/png": "[encoded data removed]",
      "text/plain": [
       "<Figure size 2000x500 with 4 Axes>"
      ]
     },
     "metadata": {},
     "output_type": "display_data"
    }
   ],
   "source": [
    "fig, ax = plt.subplots(1, 4, figsize=(20, 5))\n",
    "bins = np.linspace(0, 0.3, 100)\n",
    "for layer in range(3):\n",
    "    ax[layer].set_title(\"layer \" + str(layer))\n",
    "    ax[layer].hist(same_token_scores[:, 0, layer], bins, color=\"b\", alpha=0.7, density=True)\n",
    "    ax[layer].hist(same_token_scores[:, 1, layer], bins, color=\"r\", alpha=0.7, density=True)\n",
    "sns.despine()"
   ]
  }
 ],
 "metadata": {
  "kernelspec": {
   "display_name": "TransformerCircuits",
   "language": "python",
   "name": "python3"
  },
  "language_info": {
   "codemirror_mode": {
    "name": "ipython",
    "version": 3
   },
   "file_extension": ".py",
   "mimetype": "text/x-python",
   "name": "python",
   "nbconvert_exporter": "python",
   "pygments_lexer": "ipython3",
   "version": "3.9.21"
  }
 },
 "nbformat": 4,
 "nbformat_minor": 2
}
