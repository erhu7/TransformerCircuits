{
 "cells": [
  {
   "cell_type": "code",
   "execution_count": 13,
   "metadata": {},
   "outputs": [],
   "source": [
    "import torch\n",
    "from torch import nn\n",
    "from torch.nn import functional as F\n",
    "from torch import optim\n",
    "\n",
    "import numpy as np\n",
    "import matplotlib.pyplot as plt"
   ]
  },
  {
   "cell_type": "code",
   "execution_count": 14,
   "metadata": {},
   "outputs": [
    {
     "data": {
      "text/plain": [
       "1000000"
      ]
     },
     "execution_count": 14,
     "metadata": {},
     "output_type": "execute_result"
    }
   ],
   "source": [
    "10**6"
   ]
  },
  {
   "cell_type": "code",
   "execution_count": null,
   "metadata": {},
   "outputs": [],
   "source": [
    "# Create a mapping from characters to integers\n",
    "char_to_int = {char: idx for idx, char in enumerate(data)}\n",
    "\n",
    "# Convert the string into integer encoding\n",
    "encoded_data = torch.tensor([char_to_int[char] for char in data])\n",
    "print(encoded_data)"
   ]
  },
  {
   "cell_type": "code",
   "execution_count": 16,
   "metadata": {},
   "outputs": [
    {
     "name": "stdout",
     "output_type": "stream",
     "text": [
      "tensor([[-1.8692, -0.1225],\n",
      "        [-1.3175,  0.1878],\n",
      "        [-0.6685,  0.6622],\n",
      "        [ 0.3383,  1.0066],\n",
      "        [ 0.7432,  0.1228],\n",
      "        [ 0.7017,  0.0492]], grad_fn=<EmbeddingBackward0>)\n"
     ]
    }
   ],
   "source": [
    "string_length = 6\n",
    "embedding_dim = 2\n",
    "\n",
    "# Create an embedding layer\n",
    "embedding_layer = nn.Embedding(string_length, embedding_dim)\n",
    "\n",
    "# Example input tensor (indices of characters in the string)\n",
    "input_tensor = torch.tensor([0, 1, 2, 3, 4, 5])\n",
    "\n",
    "# Get the embeddings for the input tensor\n",
    "embedded_output = embedding_layer(input_tensor)\n",
    "print(embedded_output)"
   ]
  },
  {
   "cell_type": "code",
   "execution_count": 33,
   "metadata": {},
   "outputs": [
    {
     "data": {
      "text/plain": [
       "tensor([[ 0.0000e+00,  0.0000e+00,  0.0000e+00,  0.0000e+00,  0.0000e+00,\n",
       "          0.0000e+00,  0.0000e+00,  0.0000e+00],\n",
       "        [ 8.4147e-01,  3.1098e-01,  9.9833e-02,  3.1618e-02,  9.9998e-03,\n",
       "          3.1623e-03,  1.0000e-03,  3.1623e-04],\n",
       "        [ 9.0930e-01,  5.9113e-01,  1.9867e-01,  6.3203e-02,  1.9999e-02,\n",
       "          6.3245e-03,  2.0000e-03,  6.3246e-04],\n",
       "        [ 1.4112e-01,  8.1265e-01,  2.9552e-01,  9.4726e-02,  2.9995e-02,\n",
       "          9.4867e-03,  3.0000e-03,  9.4868e-04],\n",
       "        [-7.5680e-01,  9.5358e-01,  3.8942e-01,  1.2615e-01,  3.9989e-02,\n",
       "          1.2649e-02,  4.0000e-03,  1.2649e-03],\n",
       "        [-9.5892e-01,  9.9995e-01,  4.7943e-01,  1.5746e-01,  4.9979e-02,\n",
       "          1.5811e-02,  5.0000e-03,  1.5811e-03]])"
      ]
     },
     "execution_count": 33,
     "metadata": {},
     "output_type": "execute_result"
    }
   ],
   "source": [
    "pos = torch.arange(0, 6)\n",
    "embedding_dim = 16\n",
    "denom = (10000)**(torch.arange(0, embedding_dim, 2)/embedding_dim)\n",
    "\n",
    "torch.sin((pos[:, None] / denom[None, :]))"
   ]
  },
  {
   "cell_type": "code",
   "execution_count": 408,
   "metadata": {},
   "outputs": [],
   "source": [
    "class PositionalEmbedding(nn.Module):\n",
    "    def __init__(self, num_positions, embedding_dim, batch_first=True, *args, **kwargs):\n",
    "        super().__init__(*args, **kwargs)\n",
    "        self.d_model = embedding_dim\n",
    "        self.batch_first = batch_first\n",
    "        denominators = (10000)**(torch.arange(0, embedding_dim, 2)/embedding_dim)\n",
    "        positions = torch.arange(0, num_positions)[:, None] / denominators[None, :]\n",
    "\n",
    "        self.embedding = torch.zeros(num_positions, embedding_dim, requires_grad=False)\n",
    "        self.embedding[:, 0::2] = torch.sin(positions)\n",
    "        self.embedding[:, 1::2] = torch.cos(positions)\n",
    "\n",
    "    def forward(self, x):\n",
    "        if self.batch_first:\n",
    "            return self.embedding[:x.shape[1], :]\n",
    "        return self.embedding[:x.shape[0], :]\n",
    "\n",
    "class SimpleTransformer(nn.Module):\n",
    "\n",
    "    def __init__(self, d_model, n_tokens, max_positions, n_heads, *args, **kwargs):\n",
    "        super().__init__(*args, **kwargs)\n",
    "        # semantic + positional embedding\n",
    "        self.embed = nn.Embedding(n_tokens, d_model)\n",
    "        self.position = PositionalEmbedding(max_positions, d_model)\n",
    "        # single attention layer\n",
    "        self.attention_layer = nn.MultiheadAttention(d_model, num_heads=n_heads, batch_first=True)\n",
    "        # classification layer ouptuts the probability of each token in the vocabulary. \n",
    "        self.classify = nn.Linear(d_model, n_tokens)\n",
    "\n",
    "    def forward(self, x):\n",
    "        x = self.embed(x)\n",
    "        \n",
    "        positions = self.position(x)\n",
    "        x = x + positions\n",
    "\n",
    "        attn, attention_weights = self.attention_layer(x, x, x)\n",
    "        x = x + attn\n",
    "        \n",
    "        logits = self.classify(x)\n",
    "        final_logit = logits[:, -1, :]\n",
    "        return final_logit\n",
    "    \n",
    "class ComplexTransformer(nn.Module):\n",
    "\n",
    "    def __init__(self, d_model, n_tokens, max_positions, n_heads, *args, **kwargs):\n",
    "        super().__init__(*args, **kwargs)\n",
    "        # semantic + positional embedding\n",
    "        self.max_positions = max_positions\n",
    "        self.embed = nn.Embedding(n_tokens, d_model)\n",
    "        self.position = PositionalEmbedding(max_positions, d_model)\n",
    "        # single attention layer\n",
    "        self.attention_layer_1 = nn.MultiheadAttention(d_model, num_heads=n_heads, batch_first=True)\n",
    "\n",
    "        self.attention_layer_2 = nn.MultiheadAttention(d_model, num_heads=n_heads, batch_first=True)\n",
    "        # classification layer ouptuts the probability of each token in the vocabulary. \n",
    "        self.classify = nn.Linear(d_model, n_tokens)\n",
    "\n",
    "    def forward(self, x):\n",
    "        x = self.embed(x)\n",
    "        \n",
    "        positions = self.position(x)\n",
    "        x = x + positions\n",
    "\n",
    "        attn_1 , attention_weights = self.attention_layer_1(x, x, x, attn_mask=torch.tril(torch.ones(self.max_positions, self.max_positions)))\n",
    "        x = x + attn_1\n",
    "\n",
    "        attn_2, attention_weights = self.attention_layer_2(x, x, x, attn_mask=torch.tril(torch.ones(self.max_positions, self.max_positions)))\n",
    "        x = x + attn_2\n",
    "        \n",
    "        logits = self.classify(x)\n",
    "        final_logit = logits[:, -1, :]\n",
    "        return final_logit\n",
    "\n",
    "\n",
    "class InductionDataset:\n",
    "    def __init__(self, num_tokens, sequence_length, random_seed=42, train_fraction=0.8):\n",
    "\n",
    "        torch.manual_seed(random_seed)\n",
    "        def generate_combinations(num_tokens, sequence_length, n_combinations=10**6):\n",
    "            # randomly shuffle torch.arange(num_tokens) for each position in the sequence\n",
    "            combinations = torch.zeros(n_combinations, sequence_length, dtype=torch.long)\n",
    "            for i in range(n_combinations):\n",
    "                combinations[i,:-1] = torch.randperm(num_tokens)[:sequence_length-1]\n",
    "                combinations[i,-1] = combinations[i,:-1][torch.randint(0, sequence_length-1, (1,))]\n",
    "            return combinations\n",
    "        \n",
    "        self.n = num_tokens\n",
    "        self.combinations = generate_combinations(num_tokens, sequence_length)\n",
    "        shuffle_idx = torch.randperm(len(self.combinations))\n",
    "        self.combinations = self.combinations[shuffle_idx]\n",
    "        self.n_samples = len(self.combinations)\n",
    "\n",
    "        self.n_train = int(self.n_samples * 0.8)\n",
    "        self.train_idx = torch.arange(self.n_train)\n",
    "\n",
    "        self.test_idx = torch.arange(self.n_train, self.n_samples)\n",
    "        self.n_test = len(self.test_idx)\n",
    "\n",
    "    def __len__(self):\n",
    "        return self.n_samples\n",
    "    \n",
    "\n",
    "    def generate_batch(self, batch_size, type='train'):\n",
    "\n",
    "        assert type in ['train', 'test'], \"type must be either 'train' or 'test'\"\n",
    "        if type == 'train':\n",
    "            idx = self.train_idx[torch.randint(0, self.n_train, (batch_size,))]\n",
    "        else:\n",
    "            idx = self.test_idx[torch.randint(0, self.n_test, (batch_size,))]\n",
    "        X = self.combinations[idx]\n",
    "        y = torch.tensor([self.generate_target(x) for x in X])\n",
    "        return X, y\n",
    "    \n",
    "    def generate_target(self, x):\n",
    "        last_token = x[-1]\n",
    "        if_repeat = (x[:-1] == last_token).sum() > 0\n",
    "        if if_repeat:\n",
    "            item_idx = torch.nonzero(x == last_token)[0]\n",
    "            return x[item_idx + 1]\n",
    "        else:\n",
    "            return torch.randint(self.n, (1,))[0] #x[0]"
   ]
  },
  {
   "cell_type": "code",
   "execution_count": 245,
   "metadata": {},
   "outputs": [
    {
     "name": "stdout",
     "output_type": "stream",
     "text": [
      "Epoch 0: Train Loss: 1.9300309419631958, Test Loss: 1.8941985368728638\n",
      "Epoch 100: Train Loss: 1.473917841911316, Test Loss: 1.4417409896850586\n",
      "Epoch 200: Train Loss: 1.4762628078460693, Test Loss: 1.4868654012680054\n",
      "Epoch 300: Train Loss: 1.4303979873657227, Test Loss: 1.4231455326080322\n",
      "Epoch 400: Train Loss: 1.4448587894439697, Test Loss: 1.4649953842163086\n",
      "Epoch 500: Train Loss: 1.4162589311599731, Test Loss: 1.4366211891174316\n",
      "Epoch 600: Train Loss: 1.4400235414505005, Test Loss: 1.4540976285934448\n",
      "Epoch 700: Train Loss: 1.412661075592041, Test Loss: 1.4334584474563599\n",
      "Epoch 800: Train Loss: 1.4336103200912476, Test Loss: 1.4494216442108154\n",
      "Epoch 900: Train Loss: 1.4047235250473022, Test Loss: 1.4535695314407349\n",
      "Epoch 1000: Train Loss: 1.3564895391464233, Test Loss: 1.3907430171966553\n",
      "Epoch 1100: Train Loss: 1.419985055923462, Test Loss: 1.4289448261260986\n",
      "Epoch 1200: Train Loss: 1.3747271299362183, Test Loss: 1.383653163909912\n",
      "Epoch 1300: Train Loss: 1.3872275352478027, Test Loss: 1.3726900815963745\n",
      "Epoch 1400: Train Loss: 1.4200598001480103, Test Loss: 1.4054384231567383\n"
     ]
    }
   ],
   "source": [
    "def optimize(model, criterion, optimizer, dataset, n_epochs=1000, batch_size=32):\n",
    "    train_losses = []\n",
    "    test_losses = []\n",
    "    for epoch in range(n_epochs):\n",
    "        model.train()\n",
    "        X, y = dataset.generate_batch(batch_size, type='train')\n",
    "        optimizer.zero_grad()\n",
    "        y_pred = model(X)\n",
    "        loss = criterion(y_pred, y)\n",
    "        loss.backward()\n",
    "        optimizer.step()\n",
    "        train_losses.append(loss.item())\n",
    "\n",
    "        model.eval()\n",
    "        X, y = dataset.generate_batch(batch_size, type='test')\n",
    "        y_pred = model(X)\n",
    "        loss = criterion(y_pred, y)\n",
    "        test_losses.append(loss.item())\n",
    "\n",
    "        if epoch % 100 == 0:\n",
    "            print(f\"Epoch {epoch}: Train Loss: {train_losses[-1]}, Test Loss: {test_losses[-1]}\")\n",
    "    return train_losses, test_losses\n",
    "\n",
    "d_model = 256\n",
    "n_tokens = 6\n",
    "max_positions = 10\n",
    "n_heads = 4\n",
    "dataset = InductionDataset(n_tokens, max_positions)\n",
    "simpleModel = SimpleTransformer(d_model, n_tokens, max_positions, n_heads)\n",
    "optimizer = optim.AdamW(simpleModel.parameters(), lr=0.001)\n",
    "criterion = F.cross_entropy\n",
    "\n",
    "simple_train_losses, simple_test_losses = optimize(simpleModel, criterion, optimizer, dataset, n_epochs=1500, batch_size=1024)"
   ]
  },
  {
   "cell_type": "code",
   "execution_count": 413,
   "metadata": {},
   "outputs": [
    {
     "data": {
      "text/plain": [
       "tensor([0, 0, 0, 0, 0, 0, 0, 0])"
      ]
     },
     "execution_count": 413,
     "metadata": {},
     "output_type": "execute_result"
    }
   ],
   "source": [
    "dataset = InductionDataset(n_tokens, max_positions)\n",
    "\n",
    "dataset.combinations[0]"
   ]
  },
  {
   "cell_type": "code",
   "execution_count": 410,
   "metadata": {},
   "outputs": [
    {
     "name": "stdout",
     "output_type": "stream",
     "text": [
      "Epoch 0: Train Loss: 2.948378562927246, Test Loss: 1.135619044303894\n",
      "Epoch 100: Train Loss: 0.0, Test Loss: 0.0\n",
      "Epoch 200: Train Loss: 0.0, Test Loss: 0.0\n",
      "Epoch 300: Train Loss: 0.0, Test Loss: 0.0\n"
     ]
    },
    {
     "ename": "KeyboardInterrupt",
     "evalue": "",
     "output_type": "error",
     "traceback": [
      "\u001b[0;31m---------------------------------------------------------------------------\u001b[0m",
      "\u001b[0;31mKeyboardInterrupt\u001b[0m                         Traceback (most recent call last)",
      "Cell \u001b[0;32mIn[410], line 10\u001b[0m\n\u001b[1;32m      7\u001b[0m optimizer \u001b[38;5;241m=\u001b[39m optim\u001b[38;5;241m.\u001b[39mAdamW(complexModel\u001b[38;5;241m.\u001b[39mparameters(), lr\u001b[38;5;241m=\u001b[39m\u001b[38;5;241m0.001\u001b[39m)\n\u001b[1;32m      8\u001b[0m criterion \u001b[38;5;241m=\u001b[39m F\u001b[38;5;241m.\u001b[39mcross_entropy\n\u001b[0;32m---> 10\u001b[0m complex_train_losses, complex_test_losses \u001b[38;5;241m=\u001b[39m \u001b[43moptimize\u001b[49m\u001b[43m(\u001b[49m\u001b[43mcomplexModel\u001b[49m\u001b[43m,\u001b[49m\u001b[43m \u001b[49m\u001b[43mcriterion\u001b[49m\u001b[43m,\u001b[49m\u001b[43m \u001b[49m\u001b[43moptimizer\u001b[49m\u001b[43m,\u001b[49m\u001b[43m \u001b[49m\u001b[43mdataset\u001b[49m\u001b[43m,\u001b[49m\u001b[43m \u001b[49m\u001b[43mn_epochs\u001b[49m\u001b[38;5;241;43m=\u001b[39;49m\u001b[38;5;241;43m1500\u001b[39;49m\u001b[43m,\u001b[49m\u001b[43m \u001b[49m\u001b[43mbatch_size\u001b[49m\u001b[38;5;241;43m=\u001b[39;49m\u001b[38;5;241;43m1024\u001b[39;49m\u001b[43m)\u001b[49m\n",
      "Cell \u001b[0;32mIn[245], line 8\u001b[0m, in \u001b[0;36moptimize\u001b[0;34m(model, criterion, optimizer, dataset, n_epochs, batch_size)\u001b[0m\n\u001b[1;32m      6\u001b[0m X, y \u001b[38;5;241m=\u001b[39m dataset\u001b[38;5;241m.\u001b[39mgenerate_batch(batch_size, \u001b[38;5;28mtype\u001b[39m\u001b[38;5;241m=\u001b[39m\u001b[38;5;124m'\u001b[39m\u001b[38;5;124mtrain\u001b[39m\u001b[38;5;124m'\u001b[39m)\n\u001b[1;32m      7\u001b[0m optimizer\u001b[38;5;241m.\u001b[39mzero_grad()\n\u001b[0;32m----> 8\u001b[0m y_pred \u001b[38;5;241m=\u001b[39m \u001b[43mmodel\u001b[49m\u001b[43m(\u001b[49m\u001b[43mX\u001b[49m\u001b[43m)\u001b[49m\n\u001b[1;32m      9\u001b[0m loss \u001b[38;5;241m=\u001b[39m criterion(y_pred, y)\n\u001b[1;32m     10\u001b[0m loss\u001b[38;5;241m.\u001b[39mbackward()\n",
      "File \u001b[0;32m/opt/anaconda3/envs/TransformerCircuits/lib/python3.9/site-packages/torch/nn/modules/module.py:1736\u001b[0m, in \u001b[0;36mModule._wrapped_call_impl\u001b[0;34m(self, *args, **kwargs)\u001b[0m\n\u001b[1;32m   1734\u001b[0m     \u001b[38;5;28;01mreturn\u001b[39;00m \u001b[38;5;28mself\u001b[39m\u001b[38;5;241m.\u001b[39m_compiled_call_impl(\u001b[38;5;241m*\u001b[39margs, \u001b[38;5;241m*\u001b[39m\u001b[38;5;241m*\u001b[39mkwargs)  \u001b[38;5;66;03m# type: ignore[misc]\u001b[39;00m\n\u001b[1;32m   1735\u001b[0m \u001b[38;5;28;01melse\u001b[39;00m:\n\u001b[0;32m-> 1736\u001b[0m     \u001b[38;5;28;01mreturn\u001b[39;00m \u001b[38;5;28;43mself\u001b[39;49m\u001b[38;5;241;43m.\u001b[39;49m\u001b[43m_call_impl\u001b[49m\u001b[43m(\u001b[49m\u001b[38;5;241;43m*\u001b[39;49m\u001b[43margs\u001b[49m\u001b[43m,\u001b[49m\u001b[43m \u001b[49m\u001b[38;5;241;43m*\u001b[39;49m\u001b[38;5;241;43m*\u001b[39;49m\u001b[43mkwargs\u001b[49m\u001b[43m)\u001b[49m\n",
      "File \u001b[0;32m/opt/anaconda3/envs/TransformerCircuits/lib/python3.9/site-packages/torch/nn/modules/module.py:1747\u001b[0m, in \u001b[0;36mModule._call_impl\u001b[0;34m(self, *args, **kwargs)\u001b[0m\n\u001b[1;32m   1742\u001b[0m \u001b[38;5;66;03m# If we don't have any hooks, we want to skip the rest of the logic in\u001b[39;00m\n\u001b[1;32m   1743\u001b[0m \u001b[38;5;66;03m# this function, and just call forward.\u001b[39;00m\n\u001b[1;32m   1744\u001b[0m \u001b[38;5;28;01mif\u001b[39;00m \u001b[38;5;129;01mnot\u001b[39;00m (\u001b[38;5;28mself\u001b[39m\u001b[38;5;241m.\u001b[39m_backward_hooks \u001b[38;5;129;01mor\u001b[39;00m \u001b[38;5;28mself\u001b[39m\u001b[38;5;241m.\u001b[39m_backward_pre_hooks \u001b[38;5;129;01mor\u001b[39;00m \u001b[38;5;28mself\u001b[39m\u001b[38;5;241m.\u001b[39m_forward_hooks \u001b[38;5;129;01mor\u001b[39;00m \u001b[38;5;28mself\u001b[39m\u001b[38;5;241m.\u001b[39m_forward_pre_hooks\n\u001b[1;32m   1745\u001b[0m         \u001b[38;5;129;01mor\u001b[39;00m _global_backward_pre_hooks \u001b[38;5;129;01mor\u001b[39;00m _global_backward_hooks\n\u001b[1;32m   1746\u001b[0m         \u001b[38;5;129;01mor\u001b[39;00m _global_forward_hooks \u001b[38;5;129;01mor\u001b[39;00m _global_forward_pre_hooks):\n\u001b[0;32m-> 1747\u001b[0m     \u001b[38;5;28;01mreturn\u001b[39;00m \u001b[43mforward_call\u001b[49m\u001b[43m(\u001b[49m\u001b[38;5;241;43m*\u001b[39;49m\u001b[43margs\u001b[49m\u001b[43m,\u001b[49m\u001b[43m \u001b[49m\u001b[38;5;241;43m*\u001b[39;49m\u001b[38;5;241;43m*\u001b[39;49m\u001b[43mkwargs\u001b[49m\u001b[43m)\u001b[49m\n\u001b[1;32m   1749\u001b[0m result \u001b[38;5;241m=\u001b[39m \u001b[38;5;28;01mNone\u001b[39;00m\n\u001b[1;32m   1750\u001b[0m called_always_called_hooks \u001b[38;5;241m=\u001b[39m \u001b[38;5;28mset\u001b[39m()\n",
      "Cell \u001b[0;32mIn[408], line 70\u001b[0m, in \u001b[0;36mComplexTransformer.forward\u001b[0;34m(self, x)\u001b[0m\n\u001b[1;32m     67\u001b[0m attn_2, attention_weights \u001b[38;5;241m=\u001b[39m \u001b[38;5;28mself\u001b[39m\u001b[38;5;241m.\u001b[39mattention_layer_2(x, x, x, attn_mask\u001b[38;5;241m=\u001b[39mtorch\u001b[38;5;241m.\u001b[39mtril(torch\u001b[38;5;241m.\u001b[39mones(\u001b[38;5;28mself\u001b[39m\u001b[38;5;241m.\u001b[39mmax_positions, \u001b[38;5;28mself\u001b[39m\u001b[38;5;241m.\u001b[39mmax_positions)))\n\u001b[1;32m     68\u001b[0m x \u001b[38;5;241m=\u001b[39m x \u001b[38;5;241m+\u001b[39m attn_2\n\u001b[0;32m---> 70\u001b[0m logits \u001b[38;5;241m=\u001b[39m \u001b[38;5;28;43mself\u001b[39;49m\u001b[38;5;241;43m.\u001b[39;49m\u001b[43mclassify\u001b[49m\u001b[43m(\u001b[49m\u001b[43mx\u001b[49m\u001b[43m)\u001b[49m\n\u001b[1;32m     71\u001b[0m final_logit \u001b[38;5;241m=\u001b[39m logits[:, \u001b[38;5;241m-\u001b[39m\u001b[38;5;241m1\u001b[39m, :]\n\u001b[1;32m     72\u001b[0m \u001b[38;5;28;01mreturn\u001b[39;00m final_logit\n",
      "File \u001b[0;32m/opt/anaconda3/envs/TransformerCircuits/lib/python3.9/site-packages/torch/nn/modules/module.py:1736\u001b[0m, in \u001b[0;36mModule._wrapped_call_impl\u001b[0;34m(self, *args, **kwargs)\u001b[0m\n\u001b[1;32m   1734\u001b[0m     \u001b[38;5;28;01mreturn\u001b[39;00m \u001b[38;5;28mself\u001b[39m\u001b[38;5;241m.\u001b[39m_compiled_call_impl(\u001b[38;5;241m*\u001b[39margs, \u001b[38;5;241m*\u001b[39m\u001b[38;5;241m*\u001b[39mkwargs)  \u001b[38;5;66;03m# type: ignore[misc]\u001b[39;00m\n\u001b[1;32m   1735\u001b[0m \u001b[38;5;28;01melse\u001b[39;00m:\n\u001b[0;32m-> 1736\u001b[0m     \u001b[38;5;28;01mreturn\u001b[39;00m \u001b[38;5;28;43mself\u001b[39;49m\u001b[38;5;241;43m.\u001b[39;49m\u001b[43m_call_impl\u001b[49m\u001b[43m(\u001b[49m\u001b[38;5;241;43m*\u001b[39;49m\u001b[43margs\u001b[49m\u001b[43m,\u001b[49m\u001b[43m \u001b[49m\u001b[38;5;241;43m*\u001b[39;49m\u001b[38;5;241;43m*\u001b[39;49m\u001b[43mkwargs\u001b[49m\u001b[43m)\u001b[49m\n",
      "File \u001b[0;32m/opt/anaconda3/envs/TransformerCircuits/lib/python3.9/site-packages/torch/nn/modules/module.py:1747\u001b[0m, in \u001b[0;36mModule._call_impl\u001b[0;34m(self, *args, **kwargs)\u001b[0m\n\u001b[1;32m   1742\u001b[0m \u001b[38;5;66;03m# If we don't have any hooks, we want to skip the rest of the logic in\u001b[39;00m\n\u001b[1;32m   1743\u001b[0m \u001b[38;5;66;03m# this function, and just call forward.\u001b[39;00m\n\u001b[1;32m   1744\u001b[0m \u001b[38;5;28;01mif\u001b[39;00m \u001b[38;5;129;01mnot\u001b[39;00m (\u001b[38;5;28mself\u001b[39m\u001b[38;5;241m.\u001b[39m_backward_hooks \u001b[38;5;129;01mor\u001b[39;00m \u001b[38;5;28mself\u001b[39m\u001b[38;5;241m.\u001b[39m_backward_pre_hooks \u001b[38;5;129;01mor\u001b[39;00m \u001b[38;5;28mself\u001b[39m\u001b[38;5;241m.\u001b[39m_forward_hooks \u001b[38;5;129;01mor\u001b[39;00m \u001b[38;5;28mself\u001b[39m\u001b[38;5;241m.\u001b[39m_forward_pre_hooks\n\u001b[1;32m   1745\u001b[0m         \u001b[38;5;129;01mor\u001b[39;00m _global_backward_pre_hooks \u001b[38;5;129;01mor\u001b[39;00m _global_backward_hooks\n\u001b[1;32m   1746\u001b[0m         \u001b[38;5;129;01mor\u001b[39;00m _global_forward_hooks \u001b[38;5;129;01mor\u001b[39;00m _global_forward_pre_hooks):\n\u001b[0;32m-> 1747\u001b[0m     \u001b[38;5;28;01mreturn\u001b[39;00m \u001b[43mforward_call\u001b[49m\u001b[43m(\u001b[49m\u001b[38;5;241;43m*\u001b[39;49m\u001b[43margs\u001b[49m\u001b[43m,\u001b[49m\u001b[43m \u001b[49m\u001b[38;5;241;43m*\u001b[39;49m\u001b[38;5;241;43m*\u001b[39;49m\u001b[43mkwargs\u001b[49m\u001b[43m)\u001b[49m\n\u001b[1;32m   1749\u001b[0m result \u001b[38;5;241m=\u001b[39m \u001b[38;5;28;01mNone\u001b[39;00m\n\u001b[1;32m   1750\u001b[0m called_always_called_hooks \u001b[38;5;241m=\u001b[39m \u001b[38;5;28mset\u001b[39m()\n",
      "File \u001b[0;32m/opt/anaconda3/envs/TransformerCircuits/lib/python3.9/site-packages/torch/nn/modules/linear.py:125\u001b[0m, in \u001b[0;36mLinear.forward\u001b[0;34m(self, input)\u001b[0m\n\u001b[1;32m    124\u001b[0m \u001b[38;5;28;01mdef\u001b[39;00m \u001b[38;5;21mforward\u001b[39m(\u001b[38;5;28mself\u001b[39m, \u001b[38;5;28minput\u001b[39m: Tensor) \u001b[38;5;241m-\u001b[39m\u001b[38;5;241m>\u001b[39m Tensor:\n\u001b[0;32m--> 125\u001b[0m     \u001b[38;5;28;01mreturn\u001b[39;00m \u001b[43mF\u001b[49m\u001b[38;5;241;43m.\u001b[39;49m\u001b[43mlinear\u001b[49m\u001b[43m(\u001b[49m\u001b[38;5;28;43minput\u001b[39;49m\u001b[43m,\u001b[49m\u001b[43m \u001b[49m\u001b[38;5;28;43mself\u001b[39;49m\u001b[38;5;241;43m.\u001b[39;49m\u001b[43mweight\u001b[49m\u001b[43m,\u001b[49m\u001b[43m \u001b[49m\u001b[38;5;28;43mself\u001b[39;49m\u001b[38;5;241;43m.\u001b[39;49m\u001b[43mbias\u001b[49m\u001b[43m)\u001b[49m\n",
      "\u001b[0;31mKeyboardInterrupt\u001b[0m: "
     ]
    }
   ],
   "source": [
    "d_model = 128\n",
    "n_heads = 1\n",
    "n_tokens = 20\n",
    "max_positions = 8\n",
    "dataset = InductionDataset(n_tokens, max_positions)\n",
    "complexModel = ComplexTransformer(d_model, n_tokens, max_positions, n_heads)\n",
    "optimizer = optim.AdamW(complexModel.parameters(), lr=0.001)\n",
    "criterion = F.cross_entropy\n",
    "\n",
    "complex_train_losses, complex_test_losses = optimize(complexModel, criterion, optimizer, dataset, n_epochs=1500, batch_size=1024)"
   ]
  },
  {
   "cell_type": "code",
   "execution_count": 231,
   "metadata": {},
   "outputs": [],
   "source": [
    "def movmean(data, window_size):\n",
    "    \"\"\"\n",
    "    Calculate the moving mean of a 1D array.\n",
    "\n",
    "    Parameters:\n",
    "    data (list or np.array): Input data.\n",
    "    window_size (int): The size of the moving window.\n",
    "\n",
    "    Returns:\n",
    "    np.array: The moving mean of the input data.\n",
    "    \"\"\"\n",
    "    if not isinstance(data, (list, np.ndarray)):\n",
    "        raise ValueError(\"Input data should be a list or numpy array\")\n",
    "    \n",
    "    if not isinstance(window_size, int) or window_size <= 0:\n",
    "        raise ValueError(\"Window size should be a positive integer\")\n",
    "    \n",
    "    data = np.array(data)\n",
    "    cumsum = np.cumsum(np.insert(data, 0, 0)) \n",
    "    return (cumsum[window_size:] - cumsum[:-window_size]) / window_size\n",
    "\n"
   ]
  },
  {
   "cell_type": "code",
   "execution_count": 357,
   "metadata": {},
   "outputs": [],
   "source": [
    "num_simple_params = sum(p.numel() for p in simpleModel.parameters() if p.requires_grad)\n",
    "num_complex_params = sum(p.numel() for p in complexModel.parameters() if p.requires_grad)"
   ]
  },
  {
   "cell_type": "code",
   "execution_count": 405,
   "metadata": {},
   "outputs": [
    {
     "data": {
      "image/png": "[encoded data removed]",
      "text/plain": [
       "<Figure size 500x500 with 1 Axes>"
      ]
     },
     "metadata": {},
     "output_type": "display_data"
    }
   ],
   "source": [
    "import seaborn as sns\n",
    "fig, ax = plt.subplots(figsize=(5, 5))\n",
    "ax.plot(movmean(np.array(simple_train_losses), 3), label=f\"1-attn ({num_simple_params} params)\", lw=3)\n",
    "ax.plot(movmean(np.array(complex_test_losses), 3), label=f\"2-attn ({num_complex_params} params)\", lw=3)\n",
    "ax.set_ylabel(\"Cross Entropy Loss (Test)\")  \n",
    "ax.legend()\n",
    "ax.set_xticks([0, 500, 1000, 1500])\n",
    "ax.set_title(\"Induction Task\")\n",
    "ax.set_xlabel(\"Epoch\")\n",
    "sns.despine()"
   ]
  },
  {
   "cell_type": "code",
   "execution_count": 383,
   "metadata": {},
   "outputs": [],
   "source": [
    "X, y = dataset.generate_batch(100, type=\"test\")\n"
   ]
  },
  {
   "cell_type": "code",
   "execution_count": 392,
   "metadata": {},
   "outputs": [
    {
     "data": {
      "text/plain": [
       "tensor([[1., 0., 0., 0., 0., 0., 0., 0., 0., 0.],\n",
       "        [1., 1., 0., 0., 0., 0., 0., 0., 0., 0.],\n",
       "        [1., 1., 1., 0., 0., 0., 0., 0., 0., 0.],\n",
       "        [1., 1., 1., 1., 0., 0., 0., 0., 0., 0.],\n",
       "        [1., 1., 1., 1., 1., 0., 0., 0., 0., 0.],\n",
       "        [1., 1., 1., 1., 1., 1., 0., 0., 0., 0.],\n",
       "        [1., 1., 1., 1., 1., 1., 1., 0., 0., 0.],\n",
       "        [1., 1., 1., 1., 1., 1., 1., 1., 0., 0.],\n",
       "        [1., 1., 1., 1., 1., 1., 1., 1., 1., 0.],\n",
       "        [1., 1., 1., 1., 1., 1., 1., 1., 1., 1.]])"
      ]
     },
     "execution_count": 392,
     "metadata": {},
     "output_type": "execute_result"
    }
   ],
   "source": [
    "torch.tril(torch.ones(max_positions, max_positions))"
   ]
  },
  {
   "cell_type": "code",
   "execution_count": 403,
   "metadata": {},
   "outputs": [],
   "source": [
    "max_positions = 10\n",
    "x = complexModel.embed(X)\n",
    "x = x + complexModel.position(X)\n",
    "a_1, a_w =complexModel.attention_layer_1(x, x, x, need_weights=True, attn_mask=torch.tril(torch.ones(max_positions, max_positions)))\n",
    "x = x + a_1\n",
    "a_2, a_w2 = complexModel.attention_layer_2(x, x, x, need_weights=True, attn_mask=torch.tril(torch.ones(max_positions, max_positions)))\n",
    "x = x + a_2\n",
    "\n",
    "pred = complexModel(X)\n",
    "y_pred = torch.argmax(pred, dim=1)"
   ]
  },
  {
   "cell_type": "code",
   "execution_count": 404,
   "metadata": {},
   "outputs": [
    {
     "data": {
      "image/png": "[encoded data removed]",
      "text/plain": [
       "<Figure size 1000x500 with 2 Axes>"
      ]
     },
     "metadata": {},
     "output_type": "display_data"
    }
   ],
   "source": [
    "sample += 1\n",
    "fig, ax = plt.subplots(1, 2, figsize=(10, 5))\n",
    "\n",
    "ax[0].imshow(a_w.detach().numpy()[sample])\n",
    "ax[1].imshow(a_w2.detach().numpy()[sample])\n",
    "for i in range(2):\n",
    "    ax[i].set_xticks(np.arange(10), labels=X[sample].numpy())\n",
    "    ax[i].set_yticks(np.arange(10), labels=X[sample].numpy())\n",
    "fig.suptitle(f\"{y[sample]}, {y_pred[sample]}\")\n",
    "plt.show()"
   ]
  },
  {
   "cell_type": "code",
   "execution_count": null,
   "metadata": {},
   "outputs": [],
   "source": []
  }
 ],
 "metadata": {
  "kernelspec": {
   "display_name": "TransformerCircuits",
   "language": "python",
   "name": "python3"
  },
  "language_info": {
   "codemirror_mode": {
    "name": "ipython",
    "version": 3
   },
   "file_extension": ".py",
   "mimetype": "text/x-python",
   "name": "python",
   "nbconvert_exporter": "python",
   "pygments_lexer": "ipython3",
   "version": "3.9.21"
  }
 },
 "nbformat": 4,
 "nbformat_minor": 2
}
